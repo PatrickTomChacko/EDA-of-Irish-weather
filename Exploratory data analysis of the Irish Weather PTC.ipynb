{
 "cells": [
  {
   "cell_type": "markdown",
   "metadata": {
    "id": "BmRAkdRRLOFT"
   },
   "source": [
    "# Patrick Tom Chacko"
   ]
  },
  {
   "cell_type": "markdown",
   "metadata": {},
   "source": [
    "An exploratory data analysis of weather conditions in Irish weather, data is pre-processed then the summary statistics are looked up, data manipulation takes place and finally the required results are displayed in graphs and tables to easily understand the analysis. \n",
    "This analysis could be useful for airports to understand the passenger trend varying according to weather, as well as help them to increase profit by forecasting the operational cost, labor cost, and miscellaneous expenses according to the \n",
    "\n",
    "Project done in Python, Jupyter Notebook"
   ]
  },
  {
   "cell_type": "code",
   "execution_count": 4,
   "metadata": {},
   "outputs": [],
   "source": [
    "import pandas as pd     #importing relevant modules and libraries as short forms\n",
    "import numpy as np      #so that we can use short forms instead of library names\n",
    "import matplotlib.pyplot as plt\n",
    "import seaborn as sns"
   ]
  },
  {
   "cell_type": "code",
   "execution_count": 5,
   "metadata": {},
   "outputs": [],
   "source": [
    "file = open('weather.csv')\n",
    "lines = [line for line in file]\n",
    "def terminology():\n",
    "    print(lines[0:11])"
   ]
  },
  {
   "cell_type": "markdown",
   "metadata": {
    "id": "LBrpsV9iLOFX"
   },
   "source": [
    "Step 1. <br>\n",
    "-Load dataset as pd dataframe<br>\n",
    "-Describe the data<br>\n",
    "-Temporal resolution of data<br>"
   ]
  },
  {
   "cell_type": "code",
   "execution_count": 6,
   "metadata": {
    "colab": {
     "base_uri": "https://localhost:8080/",
     "height": 345
    },
    "id": "dbUBp_1VLOFZ",
    "outputId": "c656788b-a513-4946-bfa8-491b7d2bd6b6"
   },
   "outputs": [
    {
     "data": {
      "text/html": [
       "<div>\n",
       "<style scoped>\n",
       "    .dataframe tbody tr th:only-of-type {\n",
       "        vertical-align: middle;\n",
       "    }\n",
       "\n",
       "    .dataframe tbody tr th {\n",
       "        vertical-align: top;\n",
       "    }\n",
       "\n",
       "    .dataframe thead th {\n",
       "        text-align: right;\n",
       "    }\n",
       "</style>\n",
       "<table border=\"1\" class=\"dataframe\">\n",
       "  <thead>\n",
       "    <tr style=\"text-align: right;\">\n",
       "      <th></th>\n",
       "      <th>day</th>\n",
       "      <th>month</th>\n",
       "      <th>year</th>\n",
       "      <th>station</th>\n",
       "      <th>maxtp</th>\n",
       "      <th>mintp</th>\n",
       "      <th>rain</th>\n",
       "      <th>wdsp</th>\n",
       "      <th>hg</th>\n",
       "      <th>sun</th>\n",
       "    </tr>\n",
       "  </thead>\n",
       "  <tbody>\n",
       "    <tr>\n",
       "      <th>0</th>\n",
       "      <td>1</td>\n",
       "      <td>jan</td>\n",
       "      <td>2021</td>\n",
       "      <td>Dublin Airport</td>\n",
       "      <td>5.0</td>\n",
       "      <td>-1.9</td>\n",
       "      <td>0.0</td>\n",
       "      <td>8.8</td>\n",
       "      <td>19.0</td>\n",
       "      <td>6.6</td>\n",
       "    </tr>\n",
       "    <tr>\n",
       "      <th>1</th>\n",
       "      <td>2</td>\n",
       "      <td>jan</td>\n",
       "      <td>2021</td>\n",
       "      <td>Dublin Airport</td>\n",
       "      <td>3.5</td>\n",
       "      <td>-2.4</td>\n",
       "      <td>0.1</td>\n",
       "      <td>10.1</td>\n",
       "      <td>19.0</td>\n",
       "      <td>2.4</td>\n",
       "    </tr>\n",
       "    <tr>\n",
       "      <th>2</th>\n",
       "      <td>3</td>\n",
       "      <td>jan</td>\n",
       "      <td>2021</td>\n",
       "      <td>Dublin Airport</td>\n",
       "      <td>3.9</td>\n",
       "      <td>-2.5</td>\n",
       "      <td>4.1</td>\n",
       "      <td>9.2</td>\n",
       "      <td>30.0</td>\n",
       "      <td>0.6</td>\n",
       "    </tr>\n",
       "    <tr>\n",
       "      <th>3</th>\n",
       "      <td>4</td>\n",
       "      <td>jan</td>\n",
       "      <td>2021</td>\n",
       "      <td>Dublin Airport</td>\n",
       "      <td>5.3</td>\n",
       "      <td>2.2</td>\n",
       "      <td>0.5</td>\n",
       "      <td>11.5</td>\n",
       "      <td>27.0</td>\n",
       "      <td>0.6</td>\n",
       "    </tr>\n",
       "    <tr>\n",
       "      <th>4</th>\n",
       "      <td>5</td>\n",
       "      <td>jan</td>\n",
       "      <td>2021</td>\n",
       "      <td>Dublin Airport</td>\n",
       "      <td>5.2</td>\n",
       "      <td>1.2</td>\n",
       "      <td>1.0</td>\n",
       "      <td>9.5</td>\n",
       "      <td>25.0</td>\n",
       "      <td>1.0</td>\n",
       "    </tr>\n",
       "  </tbody>\n",
       "</table>\n",
       "</div>"
      ],
      "text/plain": [
       "   day month  year         station  maxtp  mintp  rain  wdsp    hg  sun\n",
       "0    1   jan  2021  Dublin Airport    5.0   -1.9   0.0   8.8  19.0  6.6\n",
       "1    2   jan  2021  Dublin Airport    3.5   -2.4   0.1  10.1  19.0  2.4\n",
       "2    3   jan  2021  Dublin Airport    3.9   -2.5   4.1   9.2  30.0  0.6\n",
       "3    4   jan  2021  Dublin Airport    5.3    2.2   0.5  11.5  27.0  0.6\n",
       "4    5   jan  2021  Dublin Airport    5.2    1.2   1.0   9.5  25.0  1.0"
      ]
     },
     "execution_count": 6,
     "metadata": {},
     "output_type": "execute_result"
    }
   ],
   "source": [
    "#Loading dataset as pd.dataframe\n",
    "weather_df = pd.read_csv('weather.csv',skiprows = 11, header = 0)  #by looking at our dataset we can identify where our req data is starting and if it has header\n",
    "weather_df.head()                                       "
   ]
  },
  {
   "cell_type": "markdown",
   "metadata": {
    "id": "zPl_m48iLOFa"
   },
   "source": [
    "<b>Description of weather_df</b>\n",
    "\n",
    "I viewed my dataset and saw the observations start from row 12 onwards including the header, \n",
    "so I skipped the first 11 rows and loaded the dataset with header as my first row. \n",
    "My dataframe has 10 columns and 1095 rows or observation. \n",
    "Since the dataset was in comma - separated values I could read in the data from pandas built in function read_csv\n"
   ]
  },
  {
   "cell_type": "markdown",
   "metadata": {
    "id": "jkUrQk5YLOFa"
   },
   "source": [
    "<b>Number of Years</b>\n",
    "\n",
    "Let us pull out the 'year' column from df and compute"
   ]
  },
  {
   "cell_type": "code",
   "execution_count": 7,
   "metadata": {},
   "outputs": [
    {
     "data": {
      "text/plain": [
       "array([2021], dtype=int64)"
      ]
     },
     "execution_count": 7,
     "metadata": {},
     "output_type": "execute_result"
    }
   ],
   "source": [
    "weather_df['year'].unique()"
   ]
  },
  {
   "cell_type": "markdown",
   "metadata": {},
   "source": [
    "So from here we can see the dataset has 1095 observations of the year 2021, Therefore only 1 year of recording ~ 2021"
   ]
  },
  {
   "cell_type": "markdown",
   "metadata": {},
   "source": [
    "<b>Temporal resolution of data </b>\n",
    "\n",
    "Definition. The time period between consecutive observation. \n",
    "Here from my head method I can see that the time period between each observation is a day, to confirm this let us also call the rows at end."
   ]
  },
  {
   "cell_type": "code",
   "execution_count": 8,
   "metadata": {},
   "outputs": [
    {
     "data": {
      "text/html": [
       "<div>\n",
       "<style scoped>\n",
       "    .dataframe tbody tr th:only-of-type {\n",
       "        vertical-align: middle;\n",
       "    }\n",
       "\n",
       "    .dataframe tbody tr th {\n",
       "        vertical-align: top;\n",
       "    }\n",
       "\n",
       "    .dataframe thead th {\n",
       "        text-align: right;\n",
       "    }\n",
       "</style>\n",
       "<table border=\"1\" class=\"dataframe\">\n",
       "  <thead>\n",
       "    <tr style=\"text-align: right;\">\n",
       "      <th></th>\n",
       "      <th>day</th>\n",
       "      <th>month</th>\n",
       "      <th>year</th>\n",
       "      <th>station</th>\n",
       "      <th>maxtp</th>\n",
       "      <th>mintp</th>\n",
       "      <th>rain</th>\n",
       "      <th>wdsp</th>\n",
       "      <th>hg</th>\n",
       "      <th>sun</th>\n",
       "    </tr>\n",
       "  </thead>\n",
       "  <tbody>\n",
       "    <tr>\n",
       "      <th>1090</th>\n",
       "      <td>27</td>\n",
       "      <td>dec</td>\n",
       "      <td>2021</td>\n",
       "      <td>Cork Airport</td>\n",
       "      <td>8.9</td>\n",
       "      <td>6.6</td>\n",
       "      <td>3.9</td>\n",
       "      <td>10.9</td>\n",
       "      <td>32.0</td>\n",
       "      <td>0.0</td>\n",
       "    </tr>\n",
       "    <tr>\n",
       "      <th>1091</th>\n",
       "      <td>28</td>\n",
       "      <td>dec</td>\n",
       "      <td>2021</td>\n",
       "      <td>Cork Airport</td>\n",
       "      <td>9.3</td>\n",
       "      <td>6.7</td>\n",
       "      <td>5.3</td>\n",
       "      <td>9.1</td>\n",
       "      <td>31.0</td>\n",
       "      <td>0.3</td>\n",
       "    </tr>\n",
       "    <tr>\n",
       "      <th>1092</th>\n",
       "      <td>29</td>\n",
       "      <td>dec</td>\n",
       "      <td>2021</td>\n",
       "      <td>Cork Airport</td>\n",
       "      <td>13.0</td>\n",
       "      <td>7.5</td>\n",
       "      <td>11.5</td>\n",
       "      <td>13.5</td>\n",
       "      <td>35.0</td>\n",
       "      <td>3.5</td>\n",
       "    </tr>\n",
       "    <tr>\n",
       "      <th>1093</th>\n",
       "      <td>30</td>\n",
       "      <td>dec</td>\n",
       "      <td>2021</td>\n",
       "      <td>Cork Airport</td>\n",
       "      <td>12.2</td>\n",
       "      <td>11.1</td>\n",
       "      <td>24.3</td>\n",
       "      <td>16.7</td>\n",
       "      <td>37.0</td>\n",
       "      <td>0.0</td>\n",
       "    </tr>\n",
       "    <tr>\n",
       "      <th>1094</th>\n",
       "      <td>31</td>\n",
       "      <td>dec</td>\n",
       "      <td>2021</td>\n",
       "      <td>Cork Airport</td>\n",
       "      <td>12.1</td>\n",
       "      <td>11.0</td>\n",
       "      <td>1.4</td>\n",
       "      <td>16.5</td>\n",
       "      <td>38.0</td>\n",
       "      <td>0.0</td>\n",
       "    </tr>\n",
       "  </tbody>\n",
       "</table>\n",
       "</div>"
      ],
      "text/plain": [
       "      day month  year       station  maxtp  mintp  rain  wdsp    hg  sun\n",
       "1090   27   dec  2021  Cork Airport    8.9    6.6   3.9  10.9  32.0  0.0\n",
       "1091   28   dec  2021  Cork Airport    9.3    6.7   5.3   9.1  31.0  0.3\n",
       "1092   29   dec  2021  Cork Airport   13.0    7.5  11.5  13.5  35.0  3.5\n",
       "1093   30   dec  2021  Cork Airport   12.2   11.1  24.3  16.7  37.0  0.0\n",
       "1094   31   dec  2021  Cork Airport   12.1   11.0   1.4  16.5  38.0  0.0"
      ]
     },
     "execution_count": 8,
     "metadata": {},
     "output_type": "execute_result"
    }
   ],
   "source": [
    "weather_df.tail(5)"
   ]
  },
  {
   "cell_type": "markdown",
   "metadata": {},
   "source": [
    "Hence we can confirm that the Temporal resolution of the observations in our data is 1 day."
   ]
  },
  {
   "cell_type": "markdown",
   "metadata": {
    "id": "T0sIs07fLOFb"
   },
   "source": [
    "<b>Step 2</b>\n",
    "\n",
    "-Determine how many missing values there are in each column of the dataset<br>\n",
    "-Can you think of a reason why these values are missing?<br>\n",
    "-Discuss different strategies for filling the missing values,<br>\n",
    "-highlighting the advantages and disadvantages of each strategy<br>"
   ]
  },
  {
   "cell_type": "code",
   "execution_count": 9,
   "metadata": {},
   "outputs": [
    {
     "data": {
      "text/plain": [
       "day        0\n",
       "month      0\n",
       "year       0\n",
       "station    0\n",
       "maxtp      2\n",
       "mintp      2\n",
       "rain       4\n",
       "wdsp       1\n",
       "hg         3\n",
       "sun        2\n",
       "dtype: int64"
      ]
     },
     "execution_count": 9,
     "metadata": {},
     "output_type": "execute_result"
    }
   ],
   "source": [
    "weather_df.isnull().sum(axis =0)"
   ]
  },
  {
   "cell_type": "markdown",
   "metadata": {},
   "source": [
    "<b> Number of missing values </b>\n",
    "\n",
    "We can see there are 14 missing values in total\n",
    "\n",
    "1 in column wdsp\n",
    "\n",
    "2 each in columns (maxtp,mintp,sun)\n",
    "\n",
    "3 in column hg\n",
    "\n",
    "4 in column rain"
   ]
  },
  {
   "cell_type": "markdown",
   "metadata": {},
   "source": [
    "<b>Why missing values?</b>\n",
    "\n",
    "Maybe because of the equipment meauring it might not be functioning that day<br> or \n",
    "Character was not read properly by OCR<br> or \n",
    "While porting files from different formats values got missed out<br>\n",
    "\n",
    "\n",
    "<b>Different strategies with advantages and disadvantages of dealing with missing values</b>\n",
    "\n",
    "1) Use .dropna() met of DataFrame advantage retains the integrity of data but the disadvantage is that it will drop the whole obs even if 1 col entry is NaN , what if that col didn't matter to us\n",
    "\n",
    "2) Use .reindex(data, fill =value) method of dataframe which can fill in the missing values with values that user provides, its advantageous for working on small dataset where we know the missing values but on large datasets its disadvantageous to fill in individually the missing values. The alternative parameters method = ffill forward fills the missing value with the valu above it and bfill fills value of the next available non missing value. These methods are helpful in specific cases.\n",
    "\n",
    "3) Use fillna()  met of DataFrame advantage is it won't drop any observation but disadvantage is it fills the values with user inputs which can vary user to user. Using fillna(mean(df)) advantage replaces all the missing numerical values with the mean of that column (without NaN). This is better approach as missing values won't affect the distrbution of data and every user will work on same dataset\n",
    "\n"
   ]
  },
  {
   "cell_type": "markdown",
   "metadata": {
    "id": "VlAFj0kcLOFc"
   },
   "source": [
    "<div style=\"page-break-before: always\" >\n",
    "Specific details of any record<br>\n",
    "1. How many different weather stations are included in the data set?<br>\n",
    "2. At what station and on what date was the lowest minimum air temperature recorded?<br>\n",
    "3. At what station and on what date was the largest amount of rain recorded?</div>"
   ]
  },
  {
   "cell_type": "markdown",
   "metadata": {},
   "source": [
    "Let us see how many different weather stations are included in dataset"
   ]
  },
  {
   "cell_type": "code",
   "execution_count": 10,
   "metadata": {},
   "outputs": [
    {
     "data": {
      "text/plain": [
       "array(['Dublin Airport', 'Shannon Airport', 'Cork Airport'], dtype=object)"
      ]
     },
     "execution_count": 10,
     "metadata": {},
     "output_type": "execute_result"
    }
   ],
   "source": [
    "weather_df['station'].unique()"
   ]
  },
  {
   "cell_type": "markdown",
   "metadata": {},
   "source": [
    "<b>Number of weather stations</b><br>"
   ]
  },
  {
   "cell_type": "markdown",
   "metadata": {},
   "source": [
    "We can see from the output that there are 3 different weather stations included in our dataset, which are Dublin Airport, Shannon Airport and Cork Airport."
   ]
  },
  {
   "cell_type": "markdown",
   "metadata": {},
   "source": [
    "I am going to check what abbreviations are used for minimum air temperature and amount of rain"
   ]
  },
  {
   "cell_type": "code",
   "execution_count": 11,
   "metadata": {},
   "outputs": [
    {
     "name": "stdout",
     "output_type": "stream",
     "text": [
      "['day: day of measurement,,,,,,,,,\\n', 'month: month of measurement,,,,,,,,,\\n', 'year: year of measurement,,,,,,,,,\\n', 'station: location of measurement     ,,,,,,,,,\\n', '\"maxtp: Maximum Air Temperature (C)\\t  \",,,,,,,,,\\n', 'mintp: Minimum  Air Temperature (C),,,,,,,,,\\n', 'rain: Precipitation Amount (mm),,,,,,,,,\\n', 'wdsp: Mean Wind Speed (knot),,,,,,,,,\\n', 'hg: Highest Gust (knot),,,,,,,,,\\n', 'sun: Sunshine duration (hours),,,,,,,,,\\n', ',,,,,,,,,\\n']\n"
     ]
    }
   ],
   "source": [
    "terminology()"
   ]
  },
  {
   "cell_type": "code",
   "execution_count": 12,
   "metadata": {
    "scrolled": false
   },
   "outputs": [
    {
     "data": {
      "text/html": [
       "<div>\n",
       "<style scoped>\n",
       "    .dataframe tbody tr th:only-of-type {\n",
       "        vertical-align: middle;\n",
       "    }\n",
       "\n",
       "    .dataframe tbody tr th {\n",
       "        vertical-align: top;\n",
       "    }\n",
       "\n",
       "    .dataframe thead th {\n",
       "        text-align: right;\n",
       "    }\n",
       "</style>\n",
       "<table border=\"1\" class=\"dataframe\">\n",
       "  <thead>\n",
       "    <tr style=\"text-align: right;\">\n",
       "      <th></th>\n",
       "      <th>day</th>\n",
       "      <th>month</th>\n",
       "      <th>year</th>\n",
       "      <th>station</th>\n",
       "      <th>maxtp</th>\n",
       "      <th>mintp</th>\n",
       "      <th>rain</th>\n",
       "      <th>wdsp</th>\n",
       "      <th>hg</th>\n",
       "      <th>sun</th>\n",
       "    </tr>\n",
       "  </thead>\n",
       "  <tbody>\n",
       "    <tr>\n",
       "      <th>129</th>\n",
       "      <td>10</td>\n",
       "      <td>may</td>\n",
       "      <td>2021</td>\n",
       "      <td>Dublin Airport</td>\n",
       "      <td>15.3</td>\n",
       "      <td>8.0</td>\n",
       "      <td>3.6</td>\n",
       "      <td>10.8</td>\n",
       "      <td>27.0</td>\n",
       "      <td>2.6</td>\n",
       "    </tr>\n",
       "    <tr>\n",
       "      <th>473</th>\n",
       "      <td>19</td>\n",
       "      <td>apr</td>\n",
       "      <td>2021</td>\n",
       "      <td>Shannon Airport</td>\n",
       "      <td>12.2</td>\n",
       "      <td>8.0</td>\n",
       "      <td>3.4</td>\n",
       "      <td>7.3</td>\n",
       "      <td>18.0</td>\n",
       "      <td>0.0</td>\n",
       "    </tr>\n",
       "    <tr>\n",
       "      <th>499</th>\n",
       "      <td>15</td>\n",
       "      <td>may</td>\n",
       "      <td>2021</td>\n",
       "      <td>Shannon Airport</td>\n",
       "      <td>13.0</td>\n",
       "      <td>8.0</td>\n",
       "      <td>20.7</td>\n",
       "      <td>5.6</td>\n",
       "      <td>18.0</td>\n",
       "      <td>1.7</td>\n",
       "    </tr>\n",
       "    <tr>\n",
       "      <th>514</th>\n",
       "      <td>30</td>\n",
       "      <td>may</td>\n",
       "      <td>2021</td>\n",
       "      <td>Shannon Airport</td>\n",
       "      <td>22.6</td>\n",
       "      <td>8.0</td>\n",
       "      <td>0.0</td>\n",
       "      <td>5.2</td>\n",
       "      <td>18.0</td>\n",
       "      <td>10.9</td>\n",
       "    </tr>\n",
       "    <tr>\n",
       "      <th>678</th>\n",
       "      <td>10</td>\n",
       "      <td>nov</td>\n",
       "      <td>2021</td>\n",
       "      <td>Shannon Airport</td>\n",
       "      <td>12.6</td>\n",
       "      <td>8.0</td>\n",
       "      <td>0.2</td>\n",
       "      <td>2.8</td>\n",
       "      <td>9.0</td>\n",
       "      <td>0.4</td>\n",
       "    </tr>\n",
       "    <tr>\n",
       "      <th>723</th>\n",
       "      <td>25</td>\n",
       "      <td>dec</td>\n",
       "      <td>2021</td>\n",
       "      <td>Shannon Airport</td>\n",
       "      <td>11.9</td>\n",
       "      <td>8.0</td>\n",
       "      <td>13.3</td>\n",
       "      <td>7.9</td>\n",
       "      <td>21.0</td>\n",
       "      <td>0.9</td>\n",
       "    </tr>\n",
       "    <tr>\n",
       "      <th>757</th>\n",
       "      <td>28</td>\n",
       "      <td>jan</td>\n",
       "      <td>2021</td>\n",
       "      <td>Cork Airport</td>\n",
       "      <td>10.9</td>\n",
       "      <td>8.0</td>\n",
       "      <td>2.1</td>\n",
       "      <td>13.8</td>\n",
       "      <td>32.0</td>\n",
       "      <td>0.0</td>\n",
       "    </tr>\n",
       "    <tr>\n",
       "      <th>887</th>\n",
       "      <td>7</td>\n",
       "      <td>jun</td>\n",
       "      <td>2021</td>\n",
       "      <td>Cork Airport</td>\n",
       "      <td>15.2</td>\n",
       "      <td>8.0</td>\n",
       "      <td>0.5</td>\n",
       "      <td>8.2</td>\n",
       "      <td>21.0</td>\n",
       "      <td>2.8</td>\n",
       "    </tr>\n",
       "  </tbody>\n",
       "</table>\n",
       "</div>"
      ],
      "text/plain": [
       "     day month  year          station  maxtp  mintp  rain  wdsp    hg   sun\n",
       "129   10   may  2021   Dublin Airport   15.3    8.0   3.6  10.8  27.0   2.6\n",
       "473   19   apr  2021  Shannon Airport   12.2    8.0   3.4   7.3  18.0   0.0\n",
       "499   15   may  2021  Shannon Airport   13.0    8.0  20.7   5.6  18.0   1.7\n",
       "514   30   may  2021  Shannon Airport   22.6    8.0   0.0   5.2  18.0  10.9\n",
       "678   10   nov  2021  Shannon Airport   12.6    8.0   0.2   2.8   9.0   0.4\n",
       "723   25   dec  2021  Shannon Airport   11.9    8.0  13.3   7.9  21.0   0.9\n",
       "757   28   jan  2021     Cork Airport   10.9    8.0   2.1  13.8  32.0   0.0\n",
       "887    7   jun  2021     Cork Airport   15.2    8.0   0.5   8.2  21.0   2.8"
      ]
     },
     "execution_count": 12,
     "metadata": {},
     "output_type": "execute_result"
    }
   ],
   "source": [
    "weather_df[weather_df['mintp']==weather_df['mintp'].idxmin(axis =0)]"
   ]
  },
  {
   "cell_type": "markdown",
   "metadata": {},
   "source": [
    "We can see that the minimum air temperature was observed on 8th row, we can extract that row or use another way like I have done below"
   ]
  },
  {
   "cell_type": "code",
   "execution_count": 13,
   "metadata": {},
   "outputs": [
    {
     "data": {
      "text/html": [
       "<div>\n",
       "<style scoped>\n",
       "    .dataframe tbody tr th:only-of-type {\n",
       "        vertical-align: middle;\n",
       "    }\n",
       "\n",
       "    .dataframe tbody tr th {\n",
       "        vertical-align: top;\n",
       "    }\n",
       "\n",
       "    .dataframe thead th {\n",
       "        text-align: right;\n",
       "    }\n",
       "</style>\n",
       "<table border=\"1\" class=\"dataframe\">\n",
       "  <thead>\n",
       "    <tr style=\"text-align: right;\">\n",
       "      <th></th>\n",
       "      <th>day</th>\n",
       "      <th>month</th>\n",
       "      <th>year</th>\n",
       "      <th>station</th>\n",
       "      <th>maxtp</th>\n",
       "      <th>mintp</th>\n",
       "      <th>rain</th>\n",
       "      <th>wdsp</th>\n",
       "      <th>hg</th>\n",
       "      <th>sun</th>\n",
       "    </tr>\n",
       "  </thead>\n",
       "  <tbody>\n",
       "    <tr>\n",
       "      <th>8</th>\n",
       "      <td>9</td>\n",
       "      <td>jan</td>\n",
       "      <td>2021</td>\n",
       "      <td>Dublin Airport</td>\n",
       "      <td>2.4</td>\n",
       "      <td>-5.9</td>\n",
       "      <td>0.0</td>\n",
       "      <td>6.5</td>\n",
       "      <td>19.0</td>\n",
       "      <td>6.8</td>\n",
       "    </tr>\n",
       "  </tbody>\n",
       "</table>\n",
       "</div>"
      ],
      "text/plain": [
       "   day month  year         station  maxtp  mintp  rain  wdsp    hg  sun\n",
       "8    9   jan  2021  Dublin Airport    2.4   -5.9   0.0   6.5  19.0  6.8"
      ]
     },
     "execution_count": 13,
     "metadata": {},
     "output_type": "execute_result"
    }
   ],
   "source": [
    "weather_df[weather_df['mintp']==weather_df['mintp'].min()]"
   ]
  },
  {
   "cell_type": "markdown",
   "metadata": {},
   "source": [
    "<b>Observation 1 </b><br>\n",
    "Therefore the minimum air temperature was noted in Dublin Airport on 9 January 2021\n",
    "\n",
    "Now let us check similarly for largest amount of rain"
   ]
  },
  {
   "cell_type": "code",
   "execution_count": 14,
   "metadata": {},
   "outputs": [
    {
     "data": {
      "text/html": [
       "<div>\n",
       "<style scoped>\n",
       "    .dataframe tbody tr th:only-of-type {\n",
       "        vertical-align: middle;\n",
       "    }\n",
       "\n",
       "    .dataframe tbody tr th {\n",
       "        vertical-align: top;\n",
       "    }\n",
       "\n",
       "    .dataframe thead th {\n",
       "        text-align: right;\n",
       "    }\n",
       "</style>\n",
       "<table border=\"1\" class=\"dataframe\">\n",
       "  <thead>\n",
       "    <tr style=\"text-align: right;\">\n",
       "      <th></th>\n",
       "      <th>day</th>\n",
       "      <th>month</th>\n",
       "      <th>year</th>\n",
       "      <th>station</th>\n",
       "      <th>maxtp</th>\n",
       "      <th>mintp</th>\n",
       "      <th>rain</th>\n",
       "      <th>wdsp</th>\n",
       "      <th>hg</th>\n",
       "      <th>sun</th>\n",
       "    </tr>\n",
       "  </thead>\n",
       "  <tbody>\n",
       "    <tr>\n",
       "      <th>1029</th>\n",
       "      <td>27</td>\n",
       "      <td>oct</td>\n",
       "      <td>2021</td>\n",
       "      <td>Cork Airport</td>\n",
       "      <td>14.7</td>\n",
       "      <td>12.4</td>\n",
       "      <td>50.1</td>\n",
       "      <td>16.4</td>\n",
       "      <td>36.0</td>\n",
       "      <td>0.0</td>\n",
       "    </tr>\n",
       "  </tbody>\n",
       "</table>\n",
       "</div>"
      ],
      "text/plain": [
       "      day month  year       station  maxtp  mintp  rain  wdsp    hg  sun\n",
       "1029   27   oct  2021  Cork Airport   14.7   12.4  50.1  16.4  36.0  0.0"
      ]
     },
     "execution_count": 14,
     "metadata": {},
     "output_type": "execute_result"
    }
   ],
   "source": [
    "weather_df[weather_df['rain']==weather_df['rain'].max()]"
   ]
  },
  {
   "cell_type": "markdown",
   "metadata": {},
   "source": [
    "<b>Observation 2 </b><br>\n",
    "From our code we can observe that largest amount of rain was recorded in Cork airport on 27 October 2021"
   ]
  },
  {
   "cell_type": "code",
   "execution_count": 15,
   "metadata": {},
   "outputs": [
    {
     "data": {
      "text/plain": [
       "1029"
      ]
     },
     "execution_count": 15,
     "metadata": {},
     "output_type": "execute_result"
    }
   ],
   "source": [
    "weather_df['rain'].idxmax()       #Verifying the index number using idxmax()"
   ]
  },
  {
   "cell_type": "markdown",
   "metadata": {
    "id": "rbyWOQxMLOFd"
   },
   "source": [
    "Step 3 Let's create a numerical summary <br>\n",
    "-Create a numerical summary (mean, standard deviation, minimum, maximum, etc.) weather measurements. <br>\n",
    "-Discuss and interpret your results<br>"
   ]
  },
  {
   "cell_type": "markdown",
   "metadata": {},
   "source": [
    "<b></b><br>\n",
    "Firstly I am going to remove other columns which are not weather measurements<br> <br>\n",
    "Call the describe() method on resutlting dataframe"
   ]
  },
  {
   "cell_type": "code",
   "execution_count": 16,
   "metadata": {},
   "outputs": [
    {
     "data": {
      "text/html": [
       "<div>\n",
       "<style scoped>\n",
       "    .dataframe tbody tr th:only-of-type {\n",
       "        vertical-align: middle;\n",
       "    }\n",
       "\n",
       "    .dataframe tbody tr th {\n",
       "        vertical-align: top;\n",
       "    }\n",
       "\n",
       "    .dataframe thead th {\n",
       "        text-align: right;\n",
       "    }\n",
       "</style>\n",
       "<table border=\"1\" class=\"dataframe\">\n",
       "  <thead>\n",
       "    <tr style=\"text-align: right;\">\n",
       "      <th></th>\n",
       "      <th>maxtp</th>\n",
       "      <th>mintp</th>\n",
       "      <th>rain</th>\n",
       "      <th>wdsp</th>\n",
       "      <th>hg</th>\n",
       "      <th>sun</th>\n",
       "    </tr>\n",
       "  </thead>\n",
       "  <tbody>\n",
       "    <tr>\n",
       "      <th>count</th>\n",
       "      <td>1093.000000</td>\n",
       "      <td>1093.000000</td>\n",
       "      <td>1091.000000</td>\n",
       "      <td>1094.000000</td>\n",
       "      <td>1092.000000</td>\n",
       "      <td>1093.000000</td>\n",
       "    </tr>\n",
       "    <tr>\n",
       "      <th>mean</th>\n",
       "      <td>13.732662</td>\n",
       "      <td>6.950046</td>\n",
       "      <td>2.596242</td>\n",
       "      <td>8.587020</td>\n",
       "      <td>22.863553</td>\n",
       "      <td>4.036780</td>\n",
       "    </tr>\n",
       "    <tr>\n",
       "      <th>std</th>\n",
       "      <td>5.107554</td>\n",
       "      <td>4.687423</td>\n",
       "      <td>4.864790</td>\n",
       "      <td>3.705469</td>\n",
       "      <td>8.396710</td>\n",
       "      <td>3.958998</td>\n",
       "    </tr>\n",
       "    <tr>\n",
       "      <th>min</th>\n",
       "      <td>0.600000</td>\n",
       "      <td>-5.900000</td>\n",
       "      <td>0.000000</td>\n",
       "      <td>1.900000</td>\n",
       "      <td>7.000000</td>\n",
       "      <td>0.000000</td>\n",
       "    </tr>\n",
       "    <tr>\n",
       "      <th>25%</th>\n",
       "      <td>10.200000</td>\n",
       "      <td>3.400000</td>\n",
       "      <td>0.000000</td>\n",
       "      <td>6.000000</td>\n",
       "      <td>17.000000</td>\n",
       "      <td>0.300000</td>\n",
       "    </tr>\n",
       "    <tr>\n",
       "      <th>50%</th>\n",
       "      <td>13.400000</td>\n",
       "      <td>7.100000</td>\n",
       "      <td>0.300000</td>\n",
       "      <td>7.900000</td>\n",
       "      <td>21.000000</td>\n",
       "      <td>2.900000</td>\n",
       "    </tr>\n",
       "    <tr>\n",
       "      <th>75%</th>\n",
       "      <td>17.600000</td>\n",
       "      <td>10.700000</td>\n",
       "      <td>3.050000</td>\n",
       "      <td>10.600000</td>\n",
       "      <td>28.000000</td>\n",
       "      <td>6.600000</td>\n",
       "    </tr>\n",
       "    <tr>\n",
       "      <th>max</th>\n",
       "      <td>29.600000</td>\n",
       "      <td>18.700000</td>\n",
       "      <td>50.100000</td>\n",
       "      <td>26.300000</td>\n",
       "      <td>64.000000</td>\n",
       "      <td>15.200000</td>\n",
       "    </tr>\n",
       "  </tbody>\n",
       "</table>\n",
       "</div>"
      ],
      "text/plain": [
       "             maxtp        mintp         rain         wdsp           hg  \\\n",
       "count  1093.000000  1093.000000  1091.000000  1094.000000  1092.000000   \n",
       "mean     13.732662     6.950046     2.596242     8.587020    22.863553   \n",
       "std       5.107554     4.687423     4.864790     3.705469     8.396710   \n",
       "min       0.600000    -5.900000     0.000000     1.900000     7.000000   \n",
       "25%      10.200000     3.400000     0.000000     6.000000    17.000000   \n",
       "50%      13.400000     7.100000     0.300000     7.900000    21.000000   \n",
       "75%      17.600000    10.700000     3.050000    10.600000    28.000000   \n",
       "max      29.600000    18.700000    50.100000    26.300000    64.000000   \n",
       "\n",
       "               sun  \n",
       "count  1093.000000  \n",
       "mean      4.036780  \n",
       "std       3.958998  \n",
       "min       0.000000  \n",
       "25%       0.300000  \n",
       "50%       2.900000  \n",
       "75%       6.600000  \n",
       "max      15.200000  "
      ]
     },
     "execution_count": 16,
     "metadata": {},
     "output_type": "execute_result"
    }
   ],
   "source": [
    "weather_df.drop(columns = ['day','year','month','station']).describe()"
   ]
  },
  {
   "cell_type": "markdown",
   "metadata": {},
   "source": [
    "<b>Interpretation of results</b><br>\n",
    "count - Frequency (How many observations are recorded)<br>\n",
    "We know that there are in total 1095 observations but here in 'count' all of the columns of wind measurment are showing less that 1095 because there are missing values.\n",
    "\n",
    "mean - It removes the missing value and gives us 1 numeric value that interprets the data as a single point, so for 'maxtp' I can say that, on an Average the maximum air temperature of all the observations is equal to 13.732 C, similarly for other columns\n",
    "\n",
    "std - std stands for standard deviation, standard deviation is a numeric value that gives us the spread of data, higher the numeric value implies the data is hugely spread out whereas less numeric value suggests that the observations are compact about its mean. For example in 'mintp' I can say that on an average approximately 65% of datapoints can be found in the interval [mean-std, mean+std], similarly for other columns\n",
    "\n",
    "min - min gives the minimum value in the column by default (axis = 0, by default for all observations here). For 'rain' column I can say that the minimum observed value is 0mm, which happens in the case when there was no rain observed, hence similarly we can interpret for other columns.\n",
    "\n",
    "25% - 25th percentile or the 1st quartile, the numeric value corresponding to which 25% of total values have an observed value below that numeric value. For example, in 'wdsp' column I can say that 25% of 1095 (approx 273) observations have their recorderd mean of windspeed less than 6 knot, similarly for other columns.\n",
    "\n",
    "50% - 50th percentile or the median or the 2nd quatile, is the numeric value corresponding to this number half of the datapoints have observed value for that column less than than numeric value. For example in 'hg' we can say half of the observations(approx 547) have highest gust value less than 21 knot and the other 548 have gust speed more than 21 knot.\n",
    "\n",
    "75% - 75th percentile or the 3rd quartile, is a numeric value corresponding to which 75% of total values have an observed value below that numeric value. For example, in 'sun' column, I can say 75% of 1095 ( 821 observations approx) have sunshine duration recorded less than 6.6 hrs, similarly for other columns\n",
    "\n",
    "max - Maximum or 100th percentile is the numeric value denoting the largest observation of the column in all observations.<br>\n",
    "In 'maxtp' column we can say the highest observation in maximum air temperature is 29.6 C (Celsius)<br>\n",
    "In 'mintp' column we can say the highest observation in minimum air temperature is 18.7 C <br>\n",
    "In 'rain' column we can say the highest observation in precipitation amount is 50.1 mm <br>\n",
    "In 'wdsp' column we can say the highest observation in Mean Wind Speed is 26.3 knot <br>\n",
    "In 'hg' column we can say the highest observation in highest gust is 64 knot<br>\n",
    "In 'sun' column we can say the highest observation in sunshine duration is 15.2 hours<br>"
   ]
  },
  {
   "cell_type": "code",
   "execution_count": 17,
   "metadata": {
    "scrolled": true
   },
   "outputs": [
    {
     "name": "stdout",
     "output_type": "stream",
     "text": [
      "['day: day of measurement,,,,,,,,,\\n', 'month: month of measurement,,,,,,,,,\\n', 'year: year of measurement,,,,,,,,,\\n', 'station: location of measurement     ,,,,,,,,,\\n', '\"maxtp: Maximum Air Temperature (C)\\t  \",,,,,,,,,\\n', 'mintp: Minimum  Air Temperature (C),,,,,,,,,\\n', 'rain: Precipitation Amount (mm),,,,,,,,,\\n', 'wdsp: Mean Wind Speed (knot),,,,,,,,,\\n', 'hg: Highest Gust (knot),,,,,,,,,\\n', 'sun: Sunshine duration (hours),,,,,,,,,\\n', ',,,,,,,,,\\n']\n"
     ]
    }
   ],
   "source": [
    "terminology()      #I keep forgetting the abbreviation, so I have made this function which reminds me the full forms"
   ]
  },
  {
   "cell_type": "markdown",
   "metadata": {
    "id": "5w4fF4SbLOFd"
   },
   "source": [
    "Low Code Representation.<br>\n",
    "-Create a graphical summary for each of the weather measurements. <br>\n",
    "-Discuss your plots in relation to the summary statistics found in question 4.<br>\n",
    "-Label figures<br>"
   ]
  },
  {
   "cell_type": "markdown",
   "metadata": {},
   "source": [
    "<b>Step 1</b><br>\n",
    "Import the relevant modules and libraries (I have done this at beginning)<br>\n",
    "\n",
    "<b>Step 2</b><br>\n",
    "Give title and label the Axes\n"
   ]
  },
  {
   "cell_type": "code",
   "execution_count": 18,
   "metadata": {},
   "outputs": [
    {
     "data": {
      "text/plain": [
       "Text(0, 0.5, 'Observed value')"
      ]
     },
     "execution_count": 18,
     "metadata": {},
     "output_type": "execute_result"
    },
    {
     "data": {
      "image/png": "[encoded data removed]",
      "text/plain": [
       "<Figure size 1080x576 with 1 Axes>"
      ]
     },
     "metadata": {
      "needs_background": "light"
     },
     "output_type": "display_data"
    }
   ],
   "source": [
    "plt.figure(figsize=(15,8))\n",
    "weather_df.drop(columns = ['day','year','month','station']).boxplot()\n",
    "plt.title('Graphical summary of Weather measurements',fontsize = 25)\n",
    "plt.xlabel('Weather Measurements',fontsize = 15)\n",
    "plt.ylabel('Observed value',y=0.5,fontsize = 15)"
   ]
  },
  {
   "cell_type": "markdown",
   "metadata": {},
   "source": [
    "<b>Step 3</b><br>\n",
    "Discussion of plot relation to summary statistics<br><br>\n",
    "\n",
    "Although numerical summary gives us the important Summary details but looking at the same information graphically helps us to understand the data more quickly and in a concise manner.<br><br>\n",
    "\n",
    "Looking at the boxplots we can see if the line inside the box(median) is exactly at the middle implying symmetrical distribuion between 1st and 3rd quartile, which can be observed in the boxplot corresponding to <b>'sun'</b>.<br>\n",
    "\n",
    "<br>Looking at the whiskers (the vertical line extending on both sides) gives us the spread of data, and similiar lengths on both sides can be interpreted as symmetrical distribution throughout which can be seen in boxplot corresponding to <b>'mintp'</b>.<br><br>\n",
    "\n",
    "Looking at the lines on end of the whiskers tell us the InterQuartile range (1.5 * range(1st quartile,3rd quartile)), for example the lower line at boxplot corresponding to <b>'maxtp'</b> interprets that lowest maximum air temperature observed is approximately 1C (deg celsius). <br><br>\n",
    "\n",
    "Looking at the points above the line in boxplot corresponding to <b>'wdsp'</b> can tell us about the outliers, the observations which have extreme observed values. <br><br>\n",
    "\n",
    "Looking at the outliers and their density can tell us how much of the data is actually in the extreme region (or outside our boxlot) as comparing with boxplot corresponding to <b>'rain'</b> we can see the density of outliers as well as the spread of outliers. The small box suggests that 50% of observation have observed rain values less than 1mm but the other 50% have observed high amount of rain.<br><br>\n",
    "\n",
    "Looking at the boxplot corresponding to <b>'hg'</b> tells us that it is important to look at the position of the boxplot and check the corresponding values at Y-axis gives us the understanding of our observation.<br><br>\n",
    "Graphical summary is the plotting of our numerical summary so there is no differences in observed values."
   ]
  },
  {
   "cell_type": "markdown",
   "metadata": {
    "id": "mudE0-YMLOFe"
   },
   "source": [
    "Further graphs.<br> -Produce a scatter plot of the maximum temperature versus the minimum temperature<br> \n",
    "-and colour your points based on month.<br>\n",
    "-Interpret your plot. (8 marks)<br>\n",
    "-Label figures<br>"
   ]
  },
  {
   "cell_type": "markdown",
   "metadata": {},
   "source": [
    "<b>Step 1</b><br>\n",
    "Import the relevant modules and libraries (I have done this at beginning)<br>\n",
    "<br><b>Step 2</b> Produce the appropriate Plot"
   ]
  },
  {
   "cell_type": "code",
   "execution_count": 46,
   "metadata": {},
   "outputs": [
    {
     "data": {
      "text/plain": [
       "Text(0.5, 1.0, 'Min Air Temperature vs Max Air Temperature')"
      ]
     },
     "execution_count": 46,
     "metadata": {},
     "output_type": "execute_result"
    },
    {
     "data": {
      "image/png": "[encoded data removed]",
      "text/plain": [
       "<Figure size 417.625x360 with 1 Axes>"
      ]
     },
     "metadata": {
      "needs_background": "light"
     },
     "output_type": "display_data"
    }
   ],
   "source": [
    "sns.relplot(x = 'mintp',y = 'maxtp',data = weather_df, hue = 'month')\n",
    "plt.title('Min Air Temperature vs Max Air Temperature',fontsize = 15)"
   ]
  },
  {
   "cell_type": "markdown",
   "metadata": {},
   "source": [
    "<b>Step 3</b><br>Interpretion of the plot<br><br>\n",
    "\n",
    "\n",
    "First of all we can observe points, the x axis corresponds to minimum air temperature at a particular day and the y axis corresponds to the maximum air temperature at that day<br><br>\n",
    "\n",
    "We can also observe there is a strong positive correlation between maximum air temperature and minimum air temperature stating that with increase in minimum air temperature there is increase in maximum air temperature which makes sense, as in summer the max and min air temperature are higher as its hot but in winter both are low due to days being colder.<br><br>\n",
    "\n",
    "We can also observe this from the graph that the months with November, December ,January and February are grouped together and are towards the lower temperature range(having both max and min temperature at less value meaning colder days).<br><br>\n",
    "\n",
    "Whereas the months June, July, August and September are grouped together and are seen to take the higher temperature range(both max and min are higher stating warmer days)<br><br>\n",
    "\n",
    "The rest of the months appear seem to take intermediate value, ignoring slight variations we can group the majority of data as Winter months and Summer months with Intermediate months falling in either of the groups."
   ]
  },
  {
   "cell_type": "markdown",
   "metadata": {
    "id": "ou4JspnsLOFe"
   },
   "source": [
    "<b>Data Manipulation</b>.\n",
    " <br> \n",
    "-Compute the daily temperature range, <br>\n",
    "-and add this as an additional variable to your DataFrame. <br>\n",
    "-Print out the first few rows of your DataFrame to show that the column has been added correctly. (5 marks)<br>\n",
    "-Steps for computing<br>"
   ]
  },
  {
   "cell_type": "markdown",
   "metadata": {},
   "source": [
    "<b>Step 1</b> Compute Daily temp range<br>\n",
    "Since we know the maximum air temperature is going to be greater than minimum air temperature we can find the temperature change by computing the difference between the max and the min air temperature of the day\n",
    "\n",
    "Temperature range =  maxtp(day_i) - mintp(day_i)\n",
    "\n",
    "\n",
    "Let us compute the daily temperature range and add it as another column in the dataframe.<br>\n",
    "<br><b>Step 2</b> : Add the column<br>\n",
    "Column in dataFrame can be made easily."
   ]
  },
  {
   "cell_type": "code",
   "execution_count": 20,
   "metadata": {
    "scrolled": true
   },
   "outputs": [
    {
     "data": {
      "text/html": [
       "<div>\n",
       "<style scoped>\n",
       "    .dataframe tbody tr th:only-of-type {\n",
       "        vertical-align: middle;\n",
       "    }\n",
       "\n",
       "    .dataframe tbody tr th {\n",
       "        vertical-align: top;\n",
       "    }\n",
       "\n",
       "    .dataframe thead th {\n",
       "        text-align: right;\n",
       "    }\n",
       "</style>\n",
       "<table border=\"1\" class=\"dataframe\">\n",
       "  <thead>\n",
       "    <tr style=\"text-align: right;\">\n",
       "      <th></th>\n",
       "      <th>day</th>\n",
       "      <th>month</th>\n",
       "      <th>year</th>\n",
       "      <th>station</th>\n",
       "      <th>maxtp</th>\n",
       "      <th>mintp</th>\n",
       "      <th>rain</th>\n",
       "      <th>wdsp</th>\n",
       "      <th>hg</th>\n",
       "      <th>sun</th>\n",
       "      <th>temp_diff</th>\n",
       "    </tr>\n",
       "  </thead>\n",
       "  <tbody>\n",
       "    <tr>\n",
       "      <th>0</th>\n",
       "      <td>1</td>\n",
       "      <td>jan</td>\n",
       "      <td>2021</td>\n",
       "      <td>Dublin Airport</td>\n",
       "      <td>5.0</td>\n",
       "      <td>-1.9</td>\n",
       "      <td>0.0</td>\n",
       "      <td>8.8</td>\n",
       "      <td>19.0</td>\n",
       "      <td>6.6</td>\n",
       "      <td>6.9</td>\n",
       "    </tr>\n",
       "    <tr>\n",
       "      <th>1</th>\n",
       "      <td>2</td>\n",
       "      <td>jan</td>\n",
       "      <td>2021</td>\n",
       "      <td>Dublin Airport</td>\n",
       "      <td>3.5</td>\n",
       "      <td>-2.4</td>\n",
       "      <td>0.1</td>\n",
       "      <td>10.1</td>\n",
       "      <td>19.0</td>\n",
       "      <td>2.4</td>\n",
       "      <td>5.9</td>\n",
       "    </tr>\n",
       "    <tr>\n",
       "      <th>2</th>\n",
       "      <td>3</td>\n",
       "      <td>jan</td>\n",
       "      <td>2021</td>\n",
       "      <td>Dublin Airport</td>\n",
       "      <td>3.9</td>\n",
       "      <td>-2.5</td>\n",
       "      <td>4.1</td>\n",
       "      <td>9.2</td>\n",
       "      <td>30.0</td>\n",
       "      <td>0.6</td>\n",
       "      <td>6.4</td>\n",
       "    </tr>\n",
       "    <tr>\n",
       "      <th>3</th>\n",
       "      <td>4</td>\n",
       "      <td>jan</td>\n",
       "      <td>2021</td>\n",
       "      <td>Dublin Airport</td>\n",
       "      <td>5.3</td>\n",
       "      <td>2.2</td>\n",
       "      <td>0.5</td>\n",
       "      <td>11.5</td>\n",
       "      <td>27.0</td>\n",
       "      <td>0.6</td>\n",
       "      <td>3.1</td>\n",
       "    </tr>\n",
       "    <tr>\n",
       "      <th>4</th>\n",
       "      <td>5</td>\n",
       "      <td>jan</td>\n",
       "      <td>2021</td>\n",
       "      <td>Dublin Airport</td>\n",
       "      <td>5.2</td>\n",
       "      <td>1.2</td>\n",
       "      <td>1.0</td>\n",
       "      <td>9.5</td>\n",
       "      <td>25.0</td>\n",
       "      <td>1.0</td>\n",
       "      <td>4.0</td>\n",
       "    </tr>\n",
       "  </tbody>\n",
       "</table>\n",
       "</div>"
      ],
      "text/plain": [
       "   day month  year         station  maxtp  mintp  rain  wdsp    hg  sun  \\\n",
       "0    1   jan  2021  Dublin Airport    5.0   -1.9   0.0   8.8  19.0  6.6   \n",
       "1    2   jan  2021  Dublin Airport    3.5   -2.4   0.1  10.1  19.0  2.4   \n",
       "2    3   jan  2021  Dublin Airport    3.9   -2.5   4.1   9.2  30.0  0.6   \n",
       "3    4   jan  2021  Dublin Airport    5.3    2.2   0.5  11.5  27.0  0.6   \n",
       "4    5   jan  2021  Dublin Airport    5.2    1.2   1.0   9.5  25.0  1.0   \n",
       "\n",
       "   temp_diff  \n",
       "0        6.9  \n",
       "1        5.9  \n",
       "2        6.4  \n",
       "3        3.1  \n",
       "4        4.0  "
      ]
     },
     "execution_count": 20,
     "metadata": {},
     "output_type": "execute_result"
    }
   ],
   "source": [
    "weather_df['temp_diff'] = weather_df['maxtp'] - weather_df['mintp'] \n",
    "weather_df.head()"
   ]
  },
  {
   "cell_type": "markdown",
   "metadata": {},
   "source": [
    "<b>Step 3 Print and Verify</b><br>\n"
   ]
  },
  {
   "cell_type": "markdown",
   "metadata": {},
   "source": [
    "Our column temp_diff has been created and it is stating the range of temperature observed in a Day."
   ]
  },
  {
   "cell_type": "markdown",
   "metadata": {
    "id": "RwYgKy4RLOFf"
   },
   "source": [
    "<B>Plot for 3 variables</B><br> \n",
    "-Plot the daily temperature range versus the hours of sunlight per day, colouring the points based on the weather station.<br> -Interpret your plot. (8 marks)<br>\n",
    "-Label figures"
   ]
  },
  {
   "cell_type": "markdown",
   "metadata": {},
   "source": [
    "<b>Step 1</b><br>\n",
    "Import the relevant modules and libraries (I have done this at beginning)"
   ]
  },
  {
   "cell_type": "markdown",
   "metadata": {},
   "source": [
    "To correctly understand the axis length I am going to compute the maximum value of my parameters"
   ]
  },
  {
   "cell_type": "code",
   "execution_count": 44,
   "metadata": {},
   "outputs": [
    {
     "data": {
      "text/plain": [
       "17.1"
      ]
     },
     "execution_count": 44,
     "metadata": {},
     "output_type": "execute_result"
    }
   ],
   "source": [
    "weather_df['temp_diff'].max()"
   ]
  },
  {
   "cell_type": "code",
   "execution_count": 45,
   "metadata": {},
   "outputs": [
    {
     "data": {
      "text/plain": [
       "15.2"
      ]
     },
     "execution_count": 45,
     "metadata": {},
     "output_type": "execute_result"
    }
   ],
   "source": [
    "weather_df['sun'].max()"
   ]
  },
  {
   "cell_type": "markdown",
   "metadata": {},
   "source": [
    "<b>Step 2 </b><br> Adjust the axes length, if not done in the plot<br>\n",
    "\n",
    "If the axes length are not adjusted properly we can make use of our xtick and ytick to include our datapoints. "
   ]
  },
  {
   "cell_type": "code",
   "execution_count": 42,
   "metadata": {},
   "outputs": [
    {
     "data": {
      "text/plain": [
       "Text(35.29421875, 0.5, 'Duration of sunshine')"
      ]
     },
     "execution_count": 42,
     "metadata": {},
     "output_type": "execute_result"
    },
    {
     "data": {
      "image/png": "[encoded data removed]",
      "text/plain": [
       "<Figure size 477.125x360 with 1 Axes>"
      ]
     },
     "metadata": {
      "needs_background": "light"
     },
     "output_type": "display_data"
    }
   ],
   "source": [
    "sns.relplot(x = 'temp_diff',y = 'sun',data = weather_df, hue = 'station')    # hue ~ color\n",
    "plt.title('Difference in Temp over stations',fontsize = 15)\n",
    "plt.xlabel('Temperature range',fontsize =13)\n",
    "plt.ylabel('Duration of sunshine',fontsize =13)             #increasing fontsize because couldn't read properly from plot"
   ]
  },
  {
   "cell_type": "markdown",
   "metadata": {},
   "source": [
    "<b>Step 3</b><br>Interpretation of the plot<br><br>\n",
    "\n",
    "From this plot I can observe <br>\n",
    "\n",
    "The higher the point goes vertically (upwards) it states that the duration of sunshine received is higher, but higher the point travels horizontally (rightwards) it states there was higher temperature difference on that day. This coordinate system understanding will help us understand what is denoted by the position of the point.<br><br>\n",
    "\n",
    "All the airports have majority of observations lying under 12C of daily temperature difference and 10 hrs of daily sunshine <br> <br>\n",
    "\n",
    "Lots of green dots corresponding Cork Airport crowds below 10C of daily temperature range stating that the temperature difference in a day was the smallest in Cork Airport, also symbolising the difference in maximum air temperature and minimum air temperature at any day did not cross over 12C. <br><br>\n",
    "\n",
    "An orange dot corresponding to Shannon Airport situated at (13,1.8) in (Temp_range,Sun) understanding seems to have observed the highest temperature difference in a day receiving less tha 2 hrs of sunshine. So if the max temperature was say 15C this point says that the minimum would have been 2C. <br><br>\n",
    "\n",
    "Blue dots corresponding to Dublin Airport shows higher variance both in temperature difference in a day as well as duration of sunshine per day. There appears to be 4 points which received more than 12 hours of sunshine and had a temperature difference of 14C. So if the maximum air temperature was 25C the minimum at that day would be 11C.  "
   ]
  },
  {
   "cell_type": "markdown",
   "metadata": {
    "id": "TiOzIoh-LOFf"
   },
   "source": [
    "<b>Comparative Analysis</b>.<br> -Perform a comparative analysis of the weather at Dublin Airport, Shannon Airport and Cork Airport. (20 marks)<br>\n",
    "-you should create numerical and graphical summaries of the weather measurements at each weather station<br> \n",
    "-discuss how the weather differs (or is similar) across these locations. <br>\n",
    "-Label figures<br>"
   ]
  },
  {
   "cell_type": "markdown",
   "metadata": {},
   "source": [
    "<b>Step 1</b>\n",
    "\n",
    "I am going to make three different dataframes, one for each station and do the Analysis using those dataframes. "
   ]
  },
  {
   "cell_type": "code",
   "execution_count": 22,
   "metadata": {},
   "outputs": [
    {
     "data": {
      "text/html": [
       "<div>\n",
       "<style scoped>\n",
       "    .dataframe tbody tr th:only-of-type {\n",
       "        vertical-align: middle;\n",
       "    }\n",
       "\n",
       "    .dataframe tbody tr th {\n",
       "        vertical-align: top;\n",
       "    }\n",
       "\n",
       "    .dataframe thead th {\n",
       "        text-align: right;\n",
       "    }\n",
       "</style>\n",
       "<table border=\"1\" class=\"dataframe\">\n",
       "  <thead>\n",
       "    <tr style=\"text-align: right;\">\n",
       "      <th></th>\n",
       "      <th>day</th>\n",
       "      <th>month</th>\n",
       "      <th>year</th>\n",
       "      <th>station</th>\n",
       "      <th>maxtp</th>\n",
       "      <th>mintp</th>\n",
       "      <th>rain</th>\n",
       "      <th>wdsp</th>\n",
       "      <th>hg</th>\n",
       "      <th>sun</th>\n",
       "      <th>temp_diff</th>\n",
       "    </tr>\n",
       "  </thead>\n",
       "  <tbody>\n",
       "    <tr>\n",
       "      <th>0</th>\n",
       "      <td>1</td>\n",
       "      <td>jan</td>\n",
       "      <td>2021</td>\n",
       "      <td>Dublin Airport</td>\n",
       "      <td>5.0</td>\n",
       "      <td>-1.9</td>\n",
       "      <td>0.0</td>\n",
       "      <td>8.8</td>\n",
       "      <td>19.0</td>\n",
       "      <td>6.6</td>\n",
       "      <td>6.9</td>\n",
       "    </tr>\n",
       "    <tr>\n",
       "      <th>1</th>\n",
       "      <td>2</td>\n",
       "      <td>jan</td>\n",
       "      <td>2021</td>\n",
       "      <td>Dublin Airport</td>\n",
       "      <td>3.5</td>\n",
       "      <td>-2.4</td>\n",
       "      <td>0.1</td>\n",
       "      <td>10.1</td>\n",
       "      <td>19.0</td>\n",
       "      <td>2.4</td>\n",
       "      <td>5.9</td>\n",
       "    </tr>\n",
       "    <tr>\n",
       "      <th>2</th>\n",
       "      <td>3</td>\n",
       "      <td>jan</td>\n",
       "      <td>2021</td>\n",
       "      <td>Dublin Airport</td>\n",
       "      <td>3.9</td>\n",
       "      <td>-2.5</td>\n",
       "      <td>4.1</td>\n",
       "      <td>9.2</td>\n",
       "      <td>30.0</td>\n",
       "      <td>0.6</td>\n",
       "      <td>6.4</td>\n",
       "    </tr>\n",
       "    <tr>\n",
       "      <th>3</th>\n",
       "      <td>4</td>\n",
       "      <td>jan</td>\n",
       "      <td>2021</td>\n",
       "      <td>Dublin Airport</td>\n",
       "      <td>5.3</td>\n",
       "      <td>2.2</td>\n",
       "      <td>0.5</td>\n",
       "      <td>11.5</td>\n",
       "      <td>27.0</td>\n",
       "      <td>0.6</td>\n",
       "      <td>3.1</td>\n",
       "    </tr>\n",
       "    <tr>\n",
       "      <th>4</th>\n",
       "      <td>5</td>\n",
       "      <td>jan</td>\n",
       "      <td>2021</td>\n",
       "      <td>Dublin Airport</td>\n",
       "      <td>5.2</td>\n",
       "      <td>1.2</td>\n",
       "      <td>1.0</td>\n",
       "      <td>9.5</td>\n",
       "      <td>25.0</td>\n",
       "      <td>1.0</td>\n",
       "      <td>4.0</td>\n",
       "    </tr>\n",
       "    <tr>\n",
       "      <th>...</th>\n",
       "      <td>...</td>\n",
       "      <td>...</td>\n",
       "      <td>...</td>\n",
       "      <td>...</td>\n",
       "      <td>...</td>\n",
       "      <td>...</td>\n",
       "      <td>...</td>\n",
       "      <td>...</td>\n",
       "      <td>...</td>\n",
       "      <td>...</td>\n",
       "      <td>...</td>\n",
       "    </tr>\n",
       "    <tr>\n",
       "      <th>360</th>\n",
       "      <td>27</td>\n",
       "      <td>dec</td>\n",
       "      <td>2021</td>\n",
       "      <td>Dublin Airport</td>\n",
       "      <td>9.1</td>\n",
       "      <td>0.1</td>\n",
       "      <td>0.1</td>\n",
       "      <td>6.5</td>\n",
       "      <td>17.0</td>\n",
       "      <td>0.0</td>\n",
       "      <td>9.0</td>\n",
       "    </tr>\n",
       "    <tr>\n",
       "      <th>361</th>\n",
       "      <td>28</td>\n",
       "      <td>dec</td>\n",
       "      <td>2021</td>\n",
       "      <td>Dublin Airport</td>\n",
       "      <td>8.0</td>\n",
       "      <td>3.5</td>\n",
       "      <td>10.2</td>\n",
       "      <td>6.9</td>\n",
       "      <td>18.0</td>\n",
       "      <td>2.5</td>\n",
       "      <td>4.5</td>\n",
       "    </tr>\n",
       "    <tr>\n",
       "      <th>362</th>\n",
       "      <td>29</td>\n",
       "      <td>dec</td>\n",
       "      <td>2021</td>\n",
       "      <td>Dublin Airport</td>\n",
       "      <td>13.8</td>\n",
       "      <td>5.5</td>\n",
       "      <td>2.9</td>\n",
       "      <td>11.5</td>\n",
       "      <td>41.0</td>\n",
       "      <td>3.1</td>\n",
       "      <td>8.3</td>\n",
       "    </tr>\n",
       "    <tr>\n",
       "      <th>363</th>\n",
       "      <td>30</td>\n",
       "      <td>dec</td>\n",
       "      <td>2021</td>\n",
       "      <td>Dublin Airport</td>\n",
       "      <td>13.5</td>\n",
       "      <td>11.3</td>\n",
       "      <td>8.2</td>\n",
       "      <td>7.6</td>\n",
       "      <td>26.0</td>\n",
       "      <td>0.0</td>\n",
       "      <td>2.2</td>\n",
       "    </tr>\n",
       "    <tr>\n",
       "      <th>364</th>\n",
       "      <td>31</td>\n",
       "      <td>dec</td>\n",
       "      <td>2021</td>\n",
       "      <td>Dublin Airport</td>\n",
       "      <td>14.1</td>\n",
       "      <td>10.9</td>\n",
       "      <td>0.3</td>\n",
       "      <td>11.2</td>\n",
       "      <td>30.0</td>\n",
       "      <td>1.8</td>\n",
       "      <td>3.2</td>\n",
       "    </tr>\n",
       "  </tbody>\n",
       "</table>\n",
       "<p>365 rows × 11 columns</p>\n",
       "</div>"
      ],
      "text/plain": [
       "     day month  year         station  maxtp  mintp  rain  wdsp    hg  sun  \\\n",
       "0      1   jan  2021  Dublin Airport    5.0   -1.9   0.0   8.8  19.0  6.6   \n",
       "1      2   jan  2021  Dublin Airport    3.5   -2.4   0.1  10.1  19.0  2.4   \n",
       "2      3   jan  2021  Dublin Airport    3.9   -2.5   4.1   9.2  30.0  0.6   \n",
       "3      4   jan  2021  Dublin Airport    5.3    2.2   0.5  11.5  27.0  0.6   \n",
       "4      5   jan  2021  Dublin Airport    5.2    1.2   1.0   9.5  25.0  1.0   \n",
       "..   ...   ...   ...             ...    ...    ...   ...   ...   ...  ...   \n",
       "360   27   dec  2021  Dublin Airport    9.1    0.1   0.1   6.5  17.0  0.0   \n",
       "361   28   dec  2021  Dublin Airport    8.0    3.5  10.2   6.9  18.0  2.5   \n",
       "362   29   dec  2021  Dublin Airport   13.8    5.5   2.9  11.5  41.0  3.1   \n",
       "363   30   dec  2021  Dublin Airport   13.5   11.3   8.2   7.6  26.0  0.0   \n",
       "364   31   dec  2021  Dublin Airport   14.1   10.9   0.3  11.2  30.0  1.8   \n",
       "\n",
       "     temp_diff  \n",
       "0          6.9  \n",
       "1          5.9  \n",
       "2          6.4  \n",
       "3          3.1  \n",
       "4          4.0  \n",
       "..         ...  \n",
       "360        9.0  \n",
       "361        4.5  \n",
       "362        8.3  \n",
       "363        2.2  \n",
       "364        3.2  \n",
       "\n",
       "[365 rows x 11 columns]"
      ]
     },
     "execution_count": 22,
     "metadata": {},
     "output_type": "execute_result"
    }
   ],
   "source": [
    "weather_df_dublin = weather_df[weather_df['station'] == 'Dublin Airport']\n",
    "weather_df_dublin"
   ]
  },
  {
   "cell_type": "code",
   "execution_count": 23,
   "metadata": {},
   "outputs": [
    {
     "data": {
      "text/html": [
       "<div>\n",
       "<style scoped>\n",
       "    .dataframe tbody tr th:only-of-type {\n",
       "        vertical-align: middle;\n",
       "    }\n",
       "\n",
       "    .dataframe tbody tr th {\n",
       "        vertical-align: top;\n",
       "    }\n",
       "\n",
       "    .dataframe thead th {\n",
       "        text-align: right;\n",
       "    }\n",
       "</style>\n",
       "<table border=\"1\" class=\"dataframe\">\n",
       "  <thead>\n",
       "    <tr style=\"text-align: right;\">\n",
       "      <th></th>\n",
       "      <th>day</th>\n",
       "      <th>month</th>\n",
       "      <th>year</th>\n",
       "      <th>station</th>\n",
       "      <th>maxtp</th>\n",
       "      <th>mintp</th>\n",
       "      <th>rain</th>\n",
       "      <th>wdsp</th>\n",
       "      <th>hg</th>\n",
       "      <th>sun</th>\n",
       "      <th>temp_diff</th>\n",
       "    </tr>\n",
       "  </thead>\n",
       "  <tbody>\n",
       "    <tr>\n",
       "      <th>365</th>\n",
       "      <td>1</td>\n",
       "      <td>jan</td>\n",
       "      <td>2021</td>\n",
       "      <td>Shannon Airport</td>\n",
       "      <td>6.5</td>\n",
       "      <td>-1.1</td>\n",
       "      <td>0.0</td>\n",
       "      <td>6.0</td>\n",
       "      <td>16.0</td>\n",
       "      <td>5.2</td>\n",
       "      <td>7.6</td>\n",
       "    </tr>\n",
       "    <tr>\n",
       "      <th>366</th>\n",
       "      <td>2</td>\n",
       "      <td>jan</td>\n",
       "      <td>2021</td>\n",
       "      <td>Shannon Airport</td>\n",
       "      <td>6.6</td>\n",
       "      <td>-2.5</td>\n",
       "      <td>0.1</td>\n",
       "      <td>4.2</td>\n",
       "      <td>14.0</td>\n",
       "      <td>0.1</td>\n",
       "      <td>9.1</td>\n",
       "    </tr>\n",
       "    <tr>\n",
       "      <th>367</th>\n",
       "      <td>3</td>\n",
       "      <td>jan</td>\n",
       "      <td>2021</td>\n",
       "      <td>Shannon Airport</td>\n",
       "      <td>2.6</td>\n",
       "      <td>-2.9</td>\n",
       "      <td>0.1</td>\n",
       "      <td>4.0</td>\n",
       "      <td>12.0</td>\n",
       "      <td>5.3</td>\n",
       "      <td>5.5</td>\n",
       "    </tr>\n",
       "    <tr>\n",
       "      <th>368</th>\n",
       "      <td>4</td>\n",
       "      <td>jan</td>\n",
       "      <td>2021</td>\n",
       "      <td>Shannon Airport</td>\n",
       "      <td>3.1</td>\n",
       "      <td>-2.5</td>\n",
       "      <td>0.1</td>\n",
       "      <td>7.7</td>\n",
       "      <td>19.0</td>\n",
       "      <td>2.5</td>\n",
       "      <td>5.6</td>\n",
       "    </tr>\n",
       "    <tr>\n",
       "      <th>369</th>\n",
       "      <td>5</td>\n",
       "      <td>jan</td>\n",
       "      <td>2021</td>\n",
       "      <td>Shannon Airport</td>\n",
       "      <td>4.2</td>\n",
       "      <td>-1.0</td>\n",
       "      <td>0.0</td>\n",
       "      <td>6.2</td>\n",
       "      <td>17.0</td>\n",
       "      <td>4.8</td>\n",
       "      <td>5.2</td>\n",
       "    </tr>\n",
       "    <tr>\n",
       "      <th>...</th>\n",
       "      <td>...</td>\n",
       "      <td>...</td>\n",
       "      <td>...</td>\n",
       "      <td>...</td>\n",
       "      <td>...</td>\n",
       "      <td>...</td>\n",
       "      <td>...</td>\n",
       "      <td>...</td>\n",
       "      <td>...</td>\n",
       "      <td>...</td>\n",
       "      <td>...</td>\n",
       "    </tr>\n",
       "    <tr>\n",
       "      <th>725</th>\n",
       "      <td>27</td>\n",
       "      <td>dec</td>\n",
       "      <td>2021</td>\n",
       "      <td>Shannon Airport</td>\n",
       "      <td>8.8</td>\n",
       "      <td>2.5</td>\n",
       "      <td>0.2</td>\n",
       "      <td>6.6</td>\n",
       "      <td>18.0</td>\n",
       "      <td>0.0</td>\n",
       "      <td>6.3</td>\n",
       "    </tr>\n",
       "    <tr>\n",
       "      <th>726</th>\n",
       "      <td>28</td>\n",
       "      <td>dec</td>\n",
       "      <td>2021</td>\n",
       "      <td>Shannon Airport</td>\n",
       "      <td>8.5</td>\n",
       "      <td>5.4</td>\n",
       "      <td>9.6</td>\n",
       "      <td>5.2</td>\n",
       "      <td>20.0</td>\n",
       "      <td>0.4</td>\n",
       "      <td>3.1</td>\n",
       "    </tr>\n",
       "    <tr>\n",
       "      <th>727</th>\n",
       "      <td>29</td>\n",
       "      <td>dec</td>\n",
       "      <td>2021</td>\n",
       "      <td>Shannon Airport</td>\n",
       "      <td>13.6</td>\n",
       "      <td>7.9</td>\n",
       "      <td>6.8</td>\n",
       "      <td>12.5</td>\n",
       "      <td>43.0</td>\n",
       "      <td>1.5</td>\n",
       "      <td>5.7</td>\n",
       "    </tr>\n",
       "    <tr>\n",
       "      <th>728</th>\n",
       "      <td>30</td>\n",
       "      <td>dec</td>\n",
       "      <td>2021</td>\n",
       "      <td>Shannon Airport</td>\n",
       "      <td>13.7</td>\n",
       "      <td>11.0</td>\n",
       "      <td>12.9</td>\n",
       "      <td>7.1</td>\n",
       "      <td>24.0</td>\n",
       "      <td>0.0</td>\n",
       "      <td>2.7</td>\n",
       "    </tr>\n",
       "    <tr>\n",
       "      <th>729</th>\n",
       "      <td>31</td>\n",
       "      <td>dec</td>\n",
       "      <td>2021</td>\n",
       "      <td>Shannon Airport</td>\n",
       "      <td>14.3</td>\n",
       "      <td>12.2</td>\n",
       "      <td>0.2</td>\n",
       "      <td>13.2</td>\n",
       "      <td>33.0</td>\n",
       "      <td>0.1</td>\n",
       "      <td>2.1</td>\n",
       "    </tr>\n",
       "  </tbody>\n",
       "</table>\n",
       "<p>365 rows × 11 columns</p>\n",
       "</div>"
      ],
      "text/plain": [
       "     day month  year          station  maxtp  mintp  rain  wdsp    hg  sun  \\\n",
       "365    1   jan  2021  Shannon Airport    6.5   -1.1   0.0   6.0  16.0  5.2   \n",
       "366    2   jan  2021  Shannon Airport    6.6   -2.5   0.1   4.2  14.0  0.1   \n",
       "367    3   jan  2021  Shannon Airport    2.6   -2.9   0.1   4.0  12.0  5.3   \n",
       "368    4   jan  2021  Shannon Airport    3.1   -2.5   0.1   7.7  19.0  2.5   \n",
       "369    5   jan  2021  Shannon Airport    4.2   -1.0   0.0   6.2  17.0  4.8   \n",
       "..   ...   ...   ...              ...    ...    ...   ...   ...   ...  ...   \n",
       "725   27   dec  2021  Shannon Airport    8.8    2.5   0.2   6.6  18.0  0.0   \n",
       "726   28   dec  2021  Shannon Airport    8.5    5.4   9.6   5.2  20.0  0.4   \n",
       "727   29   dec  2021  Shannon Airport   13.6    7.9   6.8  12.5  43.0  1.5   \n",
       "728   30   dec  2021  Shannon Airport   13.7   11.0  12.9   7.1  24.0  0.0   \n",
       "729   31   dec  2021  Shannon Airport   14.3   12.2   0.2  13.2  33.0  0.1   \n",
       "\n",
       "     temp_diff  \n",
       "365        7.6  \n",
       "366        9.1  \n",
       "367        5.5  \n",
       "368        5.6  \n",
       "369        5.2  \n",
       "..         ...  \n",
       "725        6.3  \n",
       "726        3.1  \n",
       "727        5.7  \n",
       "728        2.7  \n",
       "729        2.1  \n",
       "\n",
       "[365 rows x 11 columns]"
      ]
     },
     "execution_count": 23,
     "metadata": {},
     "output_type": "execute_result"
    }
   ],
   "source": [
    "weather_df_shannon = weather_df[weather_df['station'] == 'Shannon Airport']\n",
    "weather_df_shannon"
   ]
  },
  {
   "cell_type": "code",
   "execution_count": 24,
   "metadata": {},
   "outputs": [
    {
     "data": {
      "text/html": [
       "<div>\n",
       "<style scoped>\n",
       "    .dataframe tbody tr th:only-of-type {\n",
       "        vertical-align: middle;\n",
       "    }\n",
       "\n",
       "    .dataframe tbody tr th {\n",
       "        vertical-align: top;\n",
       "    }\n",
       "\n",
       "    .dataframe thead th {\n",
       "        text-align: right;\n",
       "    }\n",
       "</style>\n",
       "<table border=\"1\" class=\"dataframe\">\n",
       "  <thead>\n",
       "    <tr style=\"text-align: right;\">\n",
       "      <th></th>\n",
       "      <th>day</th>\n",
       "      <th>month</th>\n",
       "      <th>year</th>\n",
       "      <th>station</th>\n",
       "      <th>maxtp</th>\n",
       "      <th>mintp</th>\n",
       "      <th>rain</th>\n",
       "      <th>wdsp</th>\n",
       "      <th>hg</th>\n",
       "      <th>sun</th>\n",
       "      <th>temp_diff</th>\n",
       "    </tr>\n",
       "  </thead>\n",
       "  <tbody>\n",
       "    <tr>\n",
       "      <th>730</th>\n",
       "      <td>1</td>\n",
       "      <td>jan</td>\n",
       "      <td>2021</td>\n",
       "      <td>Cork Airport</td>\n",
       "      <td>5.0</td>\n",
       "      <td>0.9</td>\n",
       "      <td>0.0</td>\n",
       "      <td>12.1</td>\n",
       "      <td>28.0</td>\n",
       "      <td>6.9</td>\n",
       "      <td>4.1</td>\n",
       "    </tr>\n",
       "    <tr>\n",
       "      <th>731</th>\n",
       "      <td>2</td>\n",
       "      <td>jan</td>\n",
       "      <td>2021</td>\n",
       "      <td>Cork Airport</td>\n",
       "      <td>5.1</td>\n",
       "      <td>-0.4</td>\n",
       "      <td>0.1</td>\n",
       "      <td>8.8</td>\n",
       "      <td>17.0</td>\n",
       "      <td>0.2</td>\n",
       "      <td>5.5</td>\n",
       "    </tr>\n",
       "    <tr>\n",
       "      <th>732</th>\n",
       "      <td>3</td>\n",
       "      <td>jan</td>\n",
       "      <td>2021</td>\n",
       "      <td>Cork Airport</td>\n",
       "      <td>2.6</td>\n",
       "      <td>-1.6</td>\n",
       "      <td>0.1</td>\n",
       "      <td>10.8</td>\n",
       "      <td>21.0</td>\n",
       "      <td>6.3</td>\n",
       "      <td>4.2</td>\n",
       "    </tr>\n",
       "    <tr>\n",
       "      <th>733</th>\n",
       "      <td>4</td>\n",
       "      <td>jan</td>\n",
       "      <td>2021</td>\n",
       "      <td>Cork Airport</td>\n",
       "      <td>3.3</td>\n",
       "      <td>-0.7</td>\n",
       "      <td>0.0</td>\n",
       "      <td>10.8</td>\n",
       "      <td>22.0</td>\n",
       "      <td>4.0</td>\n",
       "      <td>4.0</td>\n",
       "    </tr>\n",
       "    <tr>\n",
       "      <th>734</th>\n",
       "      <td>5</td>\n",
       "      <td>jan</td>\n",
       "      <td>2021</td>\n",
       "      <td>Cork Airport</td>\n",
       "      <td>4.0</td>\n",
       "      <td>0.6</td>\n",
       "      <td>0.0</td>\n",
       "      <td>10.2</td>\n",
       "      <td>20.0</td>\n",
       "      <td>2.8</td>\n",
       "      <td>3.4</td>\n",
       "    </tr>\n",
       "    <tr>\n",
       "      <th>...</th>\n",
       "      <td>...</td>\n",
       "      <td>...</td>\n",
       "      <td>...</td>\n",
       "      <td>...</td>\n",
       "      <td>...</td>\n",
       "      <td>...</td>\n",
       "      <td>...</td>\n",
       "      <td>...</td>\n",
       "      <td>...</td>\n",
       "      <td>...</td>\n",
       "      <td>...</td>\n",
       "    </tr>\n",
       "    <tr>\n",
       "      <th>1090</th>\n",
       "      <td>27</td>\n",
       "      <td>dec</td>\n",
       "      <td>2021</td>\n",
       "      <td>Cork Airport</td>\n",
       "      <td>8.9</td>\n",
       "      <td>6.6</td>\n",
       "      <td>3.9</td>\n",
       "      <td>10.9</td>\n",
       "      <td>32.0</td>\n",
       "      <td>0.0</td>\n",
       "      <td>2.3</td>\n",
       "    </tr>\n",
       "    <tr>\n",
       "      <th>1091</th>\n",
       "      <td>28</td>\n",
       "      <td>dec</td>\n",
       "      <td>2021</td>\n",
       "      <td>Cork Airport</td>\n",
       "      <td>9.3</td>\n",
       "      <td>6.7</td>\n",
       "      <td>5.3</td>\n",
       "      <td>9.1</td>\n",
       "      <td>31.0</td>\n",
       "      <td>0.3</td>\n",
       "      <td>2.6</td>\n",
       "    </tr>\n",
       "    <tr>\n",
       "      <th>1092</th>\n",
       "      <td>29</td>\n",
       "      <td>dec</td>\n",
       "      <td>2021</td>\n",
       "      <td>Cork Airport</td>\n",
       "      <td>13.0</td>\n",
       "      <td>7.5</td>\n",
       "      <td>11.5</td>\n",
       "      <td>13.5</td>\n",
       "      <td>35.0</td>\n",
       "      <td>3.5</td>\n",
       "      <td>5.5</td>\n",
       "    </tr>\n",
       "    <tr>\n",
       "      <th>1093</th>\n",
       "      <td>30</td>\n",
       "      <td>dec</td>\n",
       "      <td>2021</td>\n",
       "      <td>Cork Airport</td>\n",
       "      <td>12.2</td>\n",
       "      <td>11.1</td>\n",
       "      <td>24.3</td>\n",
       "      <td>16.7</td>\n",
       "      <td>37.0</td>\n",
       "      <td>0.0</td>\n",
       "      <td>1.1</td>\n",
       "    </tr>\n",
       "    <tr>\n",
       "      <th>1094</th>\n",
       "      <td>31</td>\n",
       "      <td>dec</td>\n",
       "      <td>2021</td>\n",
       "      <td>Cork Airport</td>\n",
       "      <td>12.1</td>\n",
       "      <td>11.0</td>\n",
       "      <td>1.4</td>\n",
       "      <td>16.5</td>\n",
       "      <td>38.0</td>\n",
       "      <td>0.0</td>\n",
       "      <td>1.1</td>\n",
       "    </tr>\n",
       "  </tbody>\n",
       "</table>\n",
       "<p>365 rows × 11 columns</p>\n",
       "</div>"
      ],
      "text/plain": [
       "      day month  year       station  maxtp  mintp  rain  wdsp    hg  sun  \\\n",
       "730     1   jan  2021  Cork Airport    5.0    0.9   0.0  12.1  28.0  6.9   \n",
       "731     2   jan  2021  Cork Airport    5.1   -0.4   0.1   8.8  17.0  0.2   \n",
       "732     3   jan  2021  Cork Airport    2.6   -1.6   0.1  10.8  21.0  6.3   \n",
       "733     4   jan  2021  Cork Airport    3.3   -0.7   0.0  10.8  22.0  4.0   \n",
       "734     5   jan  2021  Cork Airport    4.0    0.6   0.0  10.2  20.0  2.8   \n",
       "...   ...   ...   ...           ...    ...    ...   ...   ...   ...  ...   \n",
       "1090   27   dec  2021  Cork Airport    8.9    6.6   3.9  10.9  32.0  0.0   \n",
       "1091   28   dec  2021  Cork Airport    9.3    6.7   5.3   9.1  31.0  0.3   \n",
       "1092   29   dec  2021  Cork Airport   13.0    7.5  11.5  13.5  35.0  3.5   \n",
       "1093   30   dec  2021  Cork Airport   12.2   11.1  24.3  16.7  37.0  0.0   \n",
       "1094   31   dec  2021  Cork Airport   12.1   11.0   1.4  16.5  38.0  0.0   \n",
       "\n",
       "      temp_diff  \n",
       "730         4.1  \n",
       "731         5.5  \n",
       "732         4.2  \n",
       "733         4.0  \n",
       "734         3.4  \n",
       "...         ...  \n",
       "1090        2.3  \n",
       "1091        2.6  \n",
       "1092        5.5  \n",
       "1093        1.1  \n",
       "1094        1.1  \n",
       "\n",
       "[365 rows x 11 columns]"
      ]
     },
     "execution_count": 24,
     "metadata": {},
     "output_type": "execute_result"
    }
   ],
   "source": [
    "weather_df_cork = weather_df[weather_df['station'] == 'Cork Airport']\n",
    "weather_df_cork"
   ]
  },
  {
   "cell_type": "markdown",
   "metadata": {},
   "source": [
    "<b>Step 2</b><br>\n",
    "<b>Numerical summary of weather measurements </b>\n",
    "\n",
    "Sumnary for Dublin Airport"
   ]
  },
  {
   "cell_type": "code",
   "execution_count": 25,
   "metadata": {},
   "outputs": [
    {
     "data": {
      "text/html": [
       "<div>\n",
       "<style scoped>\n",
       "    .dataframe tbody tr th:only-of-type {\n",
       "        vertical-align: middle;\n",
       "    }\n",
       "\n",
       "    .dataframe tbody tr th {\n",
       "        vertical-align: top;\n",
       "    }\n",
       "\n",
       "    .dataframe thead th {\n",
       "        text-align: right;\n",
       "    }\n",
       "</style>\n",
       "<table border=\"1\" class=\"dataframe\">\n",
       "  <thead>\n",
       "    <tr style=\"text-align: right;\">\n",
       "      <th></th>\n",
       "      <th>maxtp</th>\n",
       "      <th>mintp</th>\n",
       "      <th>rain</th>\n",
       "      <th>wdsp</th>\n",
       "      <th>hg</th>\n",
       "      <th>sun</th>\n",
       "    </tr>\n",
       "  </thead>\n",
       "  <tbody>\n",
       "    <tr>\n",
       "      <th>count</th>\n",
       "      <td>364.000000</td>\n",
       "      <td>364.000000</td>\n",
       "      <td>364.000000</td>\n",
       "      <td>365.000000</td>\n",
       "      <td>364.000000</td>\n",
       "      <td>364.000000</td>\n",
       "    </tr>\n",
       "    <tr>\n",
       "      <th>mean</th>\n",
       "      <td>13.590934</td>\n",
       "      <td>6.001099</td>\n",
       "      <td>1.828846</td>\n",
       "      <td>8.625753</td>\n",
       "      <td>22.623626</td>\n",
       "      <td>4.089835</td>\n",
       "    </tr>\n",
       "    <tr>\n",
       "      <th>std</th>\n",
       "      <td>5.258806</td>\n",
       "      <td>4.748774</td>\n",
       "      <td>3.878082</td>\n",
       "      <td>3.456376</td>\n",
       "      <td>7.790196</td>\n",
       "      <td>3.981802</td>\n",
       "    </tr>\n",
       "    <tr>\n",
       "      <th>min</th>\n",
       "      <td>1.500000</td>\n",
       "      <td>-5.900000</td>\n",
       "      <td>0.000000</td>\n",
       "      <td>2.600000</td>\n",
       "      <td>10.000000</td>\n",
       "      <td>0.000000</td>\n",
       "    </tr>\n",
       "    <tr>\n",
       "      <th>25%</th>\n",
       "      <td>10.000000</td>\n",
       "      <td>2.000000</td>\n",
       "      <td>0.000000</td>\n",
       "      <td>6.100000</td>\n",
       "      <td>17.000000</td>\n",
       "      <td>0.500000</td>\n",
       "    </tr>\n",
       "    <tr>\n",
       "      <th>50%</th>\n",
       "      <td>13.300000</td>\n",
       "      <td>6.200000</td>\n",
       "      <td>0.100000</td>\n",
       "      <td>7.900000</td>\n",
       "      <td>21.000000</td>\n",
       "      <td>2.900000</td>\n",
       "    </tr>\n",
       "    <tr>\n",
       "      <th>75%</th>\n",
       "      <td>18.100000</td>\n",
       "      <td>9.900000</td>\n",
       "      <td>1.325000</td>\n",
       "      <td>10.500000</td>\n",
       "      <td>27.250000</td>\n",
       "      <td>6.800000</td>\n",
       "    </tr>\n",
       "    <tr>\n",
       "      <th>max</th>\n",
       "      <td>26.800000</td>\n",
       "      <td>15.800000</td>\n",
       "      <td>26.900000</td>\n",
       "      <td>24.400000</td>\n",
       "      <td>50.000000</td>\n",
       "      <td>15.200000</td>\n",
       "    </tr>\n",
       "  </tbody>\n",
       "</table>\n",
       "</div>"
      ],
      "text/plain": [
       "            maxtp       mintp        rain        wdsp          hg         sun\n",
       "count  364.000000  364.000000  364.000000  365.000000  364.000000  364.000000\n",
       "mean    13.590934    6.001099    1.828846    8.625753   22.623626    4.089835\n",
       "std      5.258806    4.748774    3.878082    3.456376    7.790196    3.981802\n",
       "min      1.500000   -5.900000    0.000000    2.600000   10.000000    0.000000\n",
       "25%     10.000000    2.000000    0.000000    6.100000   17.000000    0.500000\n",
       "50%     13.300000    6.200000    0.100000    7.900000   21.000000    2.900000\n",
       "75%     18.100000    9.900000    1.325000   10.500000   27.250000    6.800000\n",
       "max     26.800000   15.800000   26.900000   24.400000   50.000000   15.200000"
      ]
     },
     "execution_count": 25,
     "metadata": {},
     "output_type": "execute_result"
    }
   ],
   "source": [
    "weather_df_dublin.drop(columns = ['day','year','temp_diff']).describe()"
   ]
  },
  {
   "cell_type": "markdown",
   "metadata": {},
   "source": [
    "Summary for Shannon Airport"
   ]
  },
  {
   "cell_type": "code",
   "execution_count": 26,
   "metadata": {},
   "outputs": [
    {
     "data": {
      "text/html": [
       "<div>\n",
       "<style scoped>\n",
       "    .dataframe tbody tr th:only-of-type {\n",
       "        vertical-align: middle;\n",
       "    }\n",
       "\n",
       "    .dataframe tbody tr th {\n",
       "        vertical-align: top;\n",
       "    }\n",
       "\n",
       "    .dataframe thead th {\n",
       "        text-align: right;\n",
       "    }\n",
       "</style>\n",
       "<table border=\"1\" class=\"dataframe\">\n",
       "  <thead>\n",
       "    <tr style=\"text-align: right;\">\n",
       "      <th></th>\n",
       "      <th>maxtp</th>\n",
       "      <th>mintp</th>\n",
       "      <th>rain</th>\n",
       "      <th>wdsp</th>\n",
       "      <th>hg</th>\n",
       "      <th>sun</th>\n",
       "    </tr>\n",
       "  </thead>\n",
       "  <tbody>\n",
       "    <tr>\n",
       "      <th>count</th>\n",
       "      <td>364.000000</td>\n",
       "      <td>364.000000</td>\n",
       "      <td>365.000000</td>\n",
       "      <td>365.000000</td>\n",
       "      <td>363.000000</td>\n",
       "      <td>364.000000</td>\n",
       "    </tr>\n",
       "    <tr>\n",
       "      <th>mean</th>\n",
       "      <td>14.368681</td>\n",
       "      <td>7.611813</td>\n",
       "      <td>2.549041</td>\n",
       "      <td>7.815342</td>\n",
       "      <td>21.796143</td>\n",
       "      <td>3.856044</td>\n",
       "    </tr>\n",
       "    <tr>\n",
       "      <th>std</th>\n",
       "      <td>5.175728</td>\n",
       "      <td>4.820239</td>\n",
       "      <td>4.007511</td>\n",
       "      <td>3.575878</td>\n",
       "      <td>8.372032</td>\n",
       "      <td>3.817264</td>\n",
       "    </tr>\n",
       "    <tr>\n",
       "      <th>min</th>\n",
       "      <td>0.600000</td>\n",
       "      <td>-4.600000</td>\n",
       "      <td>0.000000</td>\n",
       "      <td>1.900000</td>\n",
       "      <td>8.000000</td>\n",
       "      <td>0.000000</td>\n",
       "    </tr>\n",
       "    <tr>\n",
       "      <th>25%</th>\n",
       "      <td>11.100000</td>\n",
       "      <td>4.275000</td>\n",
       "      <td>0.000000</td>\n",
       "      <td>5.400000</td>\n",
       "      <td>16.000000</td>\n",
       "      <td>0.400000</td>\n",
       "    </tr>\n",
       "    <tr>\n",
       "      <th>50%</th>\n",
       "      <td>14.100000</td>\n",
       "      <td>7.650000</td>\n",
       "      <td>0.500000</td>\n",
       "      <td>6.900000</td>\n",
       "      <td>20.000000</td>\n",
       "      <td>2.700000</td>\n",
       "    </tr>\n",
       "    <tr>\n",
       "      <th>75%</th>\n",
       "      <td>18.000000</td>\n",
       "      <td>11.525000</td>\n",
       "      <td>3.400000</td>\n",
       "      <td>9.700000</td>\n",
       "      <td>26.000000</td>\n",
       "      <td>6.200000</td>\n",
       "    </tr>\n",
       "    <tr>\n",
       "      <th>max</th>\n",
       "      <td>29.600000</td>\n",
       "      <td>18.700000</td>\n",
       "      <td>20.700000</td>\n",
       "      <td>25.800000</td>\n",
       "      <td>61.000000</td>\n",
       "      <td>15.000000</td>\n",
       "    </tr>\n",
       "  </tbody>\n",
       "</table>\n",
       "</div>"
      ],
      "text/plain": [
       "            maxtp       mintp        rain        wdsp          hg         sun\n",
       "count  364.000000  364.000000  365.000000  365.000000  363.000000  364.000000\n",
       "mean    14.368681    7.611813    2.549041    7.815342   21.796143    3.856044\n",
       "std      5.175728    4.820239    4.007511    3.575878    8.372032    3.817264\n",
       "min      0.600000   -4.600000    0.000000    1.900000    8.000000    0.000000\n",
       "25%     11.100000    4.275000    0.000000    5.400000   16.000000    0.400000\n",
       "50%     14.100000    7.650000    0.500000    6.900000   20.000000    2.700000\n",
       "75%     18.000000   11.525000    3.400000    9.700000   26.000000    6.200000\n",
       "max     29.600000   18.700000   20.700000   25.800000   61.000000   15.000000"
      ]
     },
     "execution_count": 26,
     "metadata": {},
     "output_type": "execute_result"
    }
   ],
   "source": [
    "weather_df_shannon.drop(columns = ['day','year','temp_diff']).describe()"
   ]
  },
  {
   "cell_type": "markdown",
   "metadata": {},
   "source": [
    "Summary for Cork Airport "
   ]
  },
  {
   "cell_type": "code",
   "execution_count": 27,
   "metadata": {},
   "outputs": [
    {
     "data": {
      "text/html": [
       "<div>\n",
       "<style scoped>\n",
       "    .dataframe tbody tr th:only-of-type {\n",
       "        vertical-align: middle;\n",
       "    }\n",
       "\n",
       "    .dataframe tbody tr th {\n",
       "        vertical-align: top;\n",
       "    }\n",
       "\n",
       "    .dataframe thead th {\n",
       "        text-align: right;\n",
       "    }\n",
       "</style>\n",
       "<table border=\"1\" class=\"dataframe\">\n",
       "  <thead>\n",
       "    <tr style=\"text-align: right;\">\n",
       "      <th></th>\n",
       "      <th>maxtp</th>\n",
       "      <th>mintp</th>\n",
       "      <th>rain</th>\n",
       "      <th>wdsp</th>\n",
       "      <th>hg</th>\n",
       "      <th>sun</th>\n",
       "    </tr>\n",
       "  </thead>\n",
       "  <tbody>\n",
       "    <tr>\n",
       "      <th>count</th>\n",
       "      <td>365.000000</td>\n",
       "      <td>365.000000</td>\n",
       "      <td>362.000000</td>\n",
       "      <td>364.000000</td>\n",
       "      <td>365.000000</td>\n",
       "      <td>365.000000</td>\n",
       "    </tr>\n",
       "    <tr>\n",
       "      <th>mean</th>\n",
       "      <td>13.239726</td>\n",
       "      <td>7.236438</td>\n",
       "      <td>3.415470</td>\n",
       "      <td>9.321978</td>\n",
       "      <td>24.164384</td>\n",
       "      <td>4.164110</td>\n",
       "    </tr>\n",
       "    <tr>\n",
       "      <th>std</th>\n",
       "      <td>4.826949</td>\n",
       "      <td>4.339971</td>\n",
       "      <td>6.234737</td>\n",
       "      <td>3.924194</td>\n",
       "      <td>8.843284</td>\n",
       "      <td>4.077572</td>\n",
       "    </tr>\n",
       "    <tr>\n",
       "      <th>min</th>\n",
       "      <td>1.900000</td>\n",
       "      <td>-2.700000</td>\n",
       "      <td>0.000000</td>\n",
       "      <td>2.400000</td>\n",
       "      <td>7.000000</td>\n",
       "      <td>0.000000</td>\n",
       "    </tr>\n",
       "    <tr>\n",
       "      <th>25%</th>\n",
       "      <td>9.900000</td>\n",
       "      <td>3.800000</td>\n",
       "      <td>0.000000</td>\n",
       "      <td>6.600000</td>\n",
       "      <td>18.000000</td>\n",
       "      <td>0.200000</td>\n",
       "    </tr>\n",
       "    <tr>\n",
       "      <th>50%</th>\n",
       "      <td>12.800000</td>\n",
       "      <td>6.900000</td>\n",
       "      <td>0.600000</td>\n",
       "      <td>8.500000</td>\n",
       "      <td>23.000000</td>\n",
       "      <td>3.100000</td>\n",
       "    </tr>\n",
       "    <tr>\n",
       "      <th>75%</th>\n",
       "      <td>16.800000</td>\n",
       "      <td>11.100000</td>\n",
       "      <td>4.300000</td>\n",
       "      <td>11.200000</td>\n",
       "      <td>29.000000</td>\n",
       "      <td>7.000000</td>\n",
       "    </tr>\n",
       "    <tr>\n",
       "      <th>max</th>\n",
       "      <td>25.700000</td>\n",
       "      <td>17.400000</td>\n",
       "      <td>50.100000</td>\n",
       "      <td>26.300000</td>\n",
       "      <td>64.000000</td>\n",
       "      <td>15.200000</td>\n",
       "    </tr>\n",
       "  </tbody>\n",
       "</table>\n",
       "</div>"
      ],
      "text/plain": [
       "            maxtp       mintp        rain        wdsp          hg         sun\n",
       "count  365.000000  365.000000  362.000000  364.000000  365.000000  365.000000\n",
       "mean    13.239726    7.236438    3.415470    9.321978   24.164384    4.164110\n",
       "std      4.826949    4.339971    6.234737    3.924194    8.843284    4.077572\n",
       "min      1.900000   -2.700000    0.000000    2.400000    7.000000    0.000000\n",
       "25%      9.900000    3.800000    0.000000    6.600000   18.000000    0.200000\n",
       "50%     12.800000    6.900000    0.600000    8.500000   23.000000    3.100000\n",
       "75%     16.800000   11.100000    4.300000   11.200000   29.000000    7.000000\n",
       "max     25.700000   17.400000   50.100000   26.300000   64.000000   15.200000"
      ]
     },
     "execution_count": 27,
     "metadata": {},
     "output_type": "execute_result"
    }
   ],
   "source": [
    "weather_df_cork.drop(columns = ['day','year','temp_diff']).describe()"
   ]
  },
  {
   "cell_type": "markdown",
   "metadata": {},
   "source": [
    "<b>Step 3<br> Graphical summaries of weather measurements based on different stations</b>"
   ]
  },
  {
   "cell_type": "code",
   "execution_count": 28,
   "metadata": {},
   "outputs": [
    {
     "data": {
      "text/plain": [
       "([<matplotlib.axis.YTick at 0x1eb3b4e29d0>,\n",
       "  <matplotlib.axis.YTick at 0x1eb3b4e2fa0>,\n",
       "  <matplotlib.axis.YTick at 0x1eb3b4e2040>,\n",
       "  <matplotlib.axis.YTick at 0x1eb3b577d60>,\n",
       "  <matplotlib.axis.YTick at 0x1eb3b570bb0>,\n",
       "  <matplotlib.axis.YTick at 0x1eb3b57d6d0>,\n",
       "  <matplotlib.axis.YTick at 0x1eb3b57de20>],\n",
       " [Text(0, 0, ''),\n",
       "  Text(0, 0, ''),\n",
       "  Text(0, 0, ''),\n",
       "  Text(0, 0, ''),\n",
       "  Text(0, 0, ''),\n",
       "  Text(0, 0, ''),\n",
       "  Text(0, 0, '')])"
      ]
     },
     "execution_count": 28,
     "metadata": {},
     "output_type": "execute_result"
    },
    {
     "data": {
      "image/png": "[encoded data removed]",
      "text/plain": [
       "<Figure size 720x720 with 3 Axes>"
      ]
     },
     "metadata": {
      "needs_background": "light"
     },
     "output_type": "display_data"
    }
   ],
   "source": [
    "plt.figure(figsize = (10,10))\n",
    "plt.subplot(3,1,1)\n",
    "weather_df_dublin.drop(columns = ['day','year','temp_diff']).boxplot()\n",
    "plt.ylabel('Observed values')\n",
    "plt.title('Dublin Airport Weather Measurements')\n",
    "plt.yticks([0,10,20,30,40,50,60])\n",
    "plt.subplot(3,1,2)\n",
    "weather_df_shannon.drop(columns = ['day','year','temp_diff']).boxplot()\n",
    "plt.ylabel('Observed values')\n",
    "plt.title('Shannon Airport Weather Measurements')\n",
    "plt.yticks([0,10,20,30,40,50,60])\n",
    "plt.subplot(3,1,3)\n",
    "weather_df_cork.drop(columns = ['day','year','temp_diff']).boxplot()\n",
    "plt.xlabel('Weather Measurements')\n",
    "plt.ylabel('Observed values')\n",
    "plt.title('Cork Airport Weather Measurements')\n",
    "plt.yticks([0,10,20,30,40,50,60])"
   ]
  },
  {
   "cell_type": "markdown",
   "metadata": {},
   "source": [
    "<b>Step 4 <br> Discussion of plot</b><br><br>\n",
    "\n",
    "I have scaled my yticks in all boxplots, so that we are looking at the same measurements.\n",
    "Let us go through over all the weather measurements individually but from the graphical summary it seems that all the locations are having more or less similiar weather conditions with minute differences.<br>\n",
    "\n",
    "<br>Maximum air temperature - All stations appear to experience the same maximal air temperature but Shannon airport has some outliers indicating that at some days this Airport experienced more maximal air temperature than 1.5 times the InterQuartile Range(difference between values of 1st and 3rd Quartiles) and even lower maximal air temperature than 1.5 times the InterQuartile Range. Only Shannon Airport has these outliers. (Outliers are datapoints showing extreme observed values)<br>\n",
    "\n",
    "<br>Minimum air temperature - All the station seems to have experience very similiar Minimal air temperature, the mean of observations is around 6-7 C (Celsius) \n",
    "\n",
    "<br>Precipitation amount - There appears to be huge difference in amount of rain received in each Airport, till the 2nd Quartile data seems to be compact but after crossing the 2nd quartile, the rest of the observations seems to be far spread out. With Shannon Airport receiving largest amount of rain - 20.7mm, following Dublin Airport which received the largest amount of rain up to 26.9mm following Cork Airport that got the highest amount of rainfall - 50.1mm. Cork Airport seems to have experienced highest rain fall and Shannon Airport the least and Dublin Airport taking the intermediate position.<br>\n",
    "\n",
    "<br>Mean Wind Speed - Maximum of Mean Wind Speed seems less than 30 knots for all stations stating all of them received very similiar Mean Wind Speed between 7-9 knots on average  \n",
    "\n",
    "<br>Highest Gust - Looking at the boxplots there only seems very few differences, if we look at the numerical summary we can understand that all stations had highest gust usually between 21-24 knots but Cork Airport seems to have experienced more powerful gusts than other stations equivalent to 64knots. The difference after 2nd quartile suggests that Cork Airport has experienced more varied gust than Shannon and Dublin Airport which seem to have experienced overall compact variation in highest gust, but Shannon Airport got highest gust as 61knots compared to Dublin having 50knots.<br>\n",
    "\n",
    "<br>Sunshine Duration - All the airports seem to have gotten very similiar spread in duration of sunshine, around 3-4hrs per day. (Since our temporal resolution is day), Shannon Airport seems to have observed a bit less sunny days than other airports but more or less all of them have observed similiar duration.<br><br>\n",
    "\n",
    "Although we can see similarity in some weather measurements. it is also imortant we check the non weather measurement parameters like days,months and Years. This would give us an idea of whether the similiar observations are made for same months or over different months.<br><br>\n",
    "\n",
    "For example I am going to look at the duration of sunshine based on months received at these stations"
   ]
  },
  {
   "cell_type": "code",
   "execution_count": 37,
   "metadata": {},
   "outputs": [
    {
     "data": {
      "text/plain": [
       "Text(0.5, 1.0, 'Difference in sunshine based on months')"
      ]
     },
     "execution_count": 37,
     "metadata": {},
     "output_type": "execute_result"
    },
    {
     "data": {
      "text/plain": [
       "<Figure size 432x288 with 0 Axes>"
      ]
     },
     "metadata": {},
     "output_type": "display_data"
    },
    {
     "data": {
      "image/png": "[encoded data removed]",
      "text/plain": [
       "<Figure size 417.625x360 with 1 Axes>"
      ]
     },
     "metadata": {
      "needs_background": "light"
     },
     "output_type": "display_data"
    }
   ],
   "source": [
    "plt.figure()\n",
    "sns.relplot(x = 'station', y = 'sun', hue = 'month', data = weather_df)\n",
    "plt.title('Difference in sunshine based on months',fontsize =15)"
   ]
  },
  {
   "cell_type": "markdown",
   "metadata": {},
   "source": [
    "In this graph we can observe that the observations seems to have same value over similiar months, we can use this method for other columns too."
   ]
  }
 ],
 "metadata": {
  "colab": {
   "provenance": []
  },
  "gpuClass": "standard",
  "kernelspec": {
   "display_name": "Python 3 (ipykernel)",
   "language": "python",
   "name": "python3"
  },
  "language_info": {
   "codemirror_mode": {
    "name": "ipython",
    "version": 3
   },
   "file_extension": ".py",
   "mimetype": "text/x-python",
   "name": "python",
   "nbconvert_exporter": "python",
   "pygments_lexer": "ipython3",
   "version": "3.10.8"
  }
 },
 "nbformat": 4,
 "nbformat_minor": 4
}
